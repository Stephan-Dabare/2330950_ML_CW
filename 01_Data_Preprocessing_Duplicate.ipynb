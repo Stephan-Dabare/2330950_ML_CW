{
 "cells": [
  {
   "metadata": {
    "collapsed": true,
    "ExecuteTime": {
     "end_time": "2024-12-22T19:52:32.501646Z",
     "start_time": "2024-12-22T19:52:32.391786Z"
    }
   },
   "cell_type": "code",
   "source": [
    "from itertools import count\n",
    "\n",
    "import pandas as pd\n",
    "import numpy as np\n",
    "import matplotlib.pyplot as plt\n",
    "import seaborn as sns\n",
    "from werkzeug.debug.repr import missing"
   ],
   "id": "6513be35ede41bcb",
   "outputs": [],
   "execution_count": 2
  },
  {
   "metadata": {
    "ExecuteTime": {
     "end_time": "2024-12-22T19:52:32.597863Z",
     "start_time": "2024-12-22T19:52:32.502650Z"
    }
   },
   "cell_type": "code",
   "source": [
    "# Create a data frame and separate the columns by --> ;\n",
    "data_frame = pd.read_csv('bank-full.csv', sep=';')"
   ],
   "id": "a1768c53677d4922",
   "outputs": [],
   "execution_count": 3
  },
  {
   "metadata": {
    "ExecuteTime": {
     "end_time": "2024-12-22T19:52:32.667937Z",
     "start_time": "2024-12-22T19:52:32.654980Z"
    }
   },
   "cell_type": "code",
   "source": [
    "# Get first 5 rows of data frame\n",
    "data_frame.head(500)"
   ],
   "id": "d80c080c4eb211c7",
   "outputs": [
    {
     "data": {
      "text/plain": [
       "     age           job   marital  education default  balance housing loan  \\\n",
       "0     58    management   married   tertiary      no     2143     yes   no   \n",
       "1     44    technician    single  secondary      no       29     yes   no   \n",
       "2     33  entrepreneur   married  secondary      no        2     yes  yes   \n",
       "3     47   blue-collar   married    unknown      no     1506     yes   no   \n",
       "4     33       unknown    single    unknown      no        1      no   no   \n",
       "..   ...           ...       ...        ...     ...      ...     ...  ...   \n",
       "495   39        admin.    single  secondary      no        0     yes   no   \n",
       "496   39   blue-collar  divorced  secondary      no       42     yes   no   \n",
       "497   50   blue-collar  divorced  secondary      no       41     yes   no   \n",
       "498   44   blue-collar   married  secondary      no      -99     yes   no   \n",
       "499   37    technician    single  secondary      no       17     yes   no   \n",
       "\n",
       "     contact  day month  duration  campaign  pdays  previous poutcome   y  \n",
       "0    unknown    5   may       261         1     -1         0  unknown  no  \n",
       "1    unknown    5   may       151         1     -1         0  unknown  no  \n",
       "2    unknown    5   may        76         1     -1         0  unknown  no  \n",
       "3    unknown    5   may        92         1     -1         0  unknown  no  \n",
       "4    unknown    5   may       198         1     -1         0  unknown  no  \n",
       "..       ...  ...   ...       ...       ...    ...       ...      ...  ..  \n",
       "495  unknown    6   may       174         2     -1         0  unknown  no  \n",
       "496  unknown    6   may       226         2     -1         0  unknown  no  \n",
       "497  unknown    6   may       190         1     -1         0  unknown  no  \n",
       "498  unknown    6   may       111         2     -1         0  unknown  no  \n",
       "499  unknown    6   may       164         1     -1         0  unknown  no  \n",
       "\n",
       "[500 rows x 17 columns]"
      ],
      "text/html": [
       "<div>\n",
       "<style scoped>\n",
       "    .dataframe tbody tr th:only-of-type {\n",
       "        vertical-align: middle;\n",
       "    }\n",
       "\n",
       "    .dataframe tbody tr th {\n",
       "        vertical-align: top;\n",
       "    }\n",
       "\n",
       "    .dataframe thead th {\n",
       "        text-align: right;\n",
       "    }\n",
       "</style>\n",
       "<table border=\"1\" class=\"dataframe\">\n",
       "  <thead>\n",
       "    <tr style=\"text-align: right;\">\n",
       "      <th></th>\n",
       "      <th>age</th>\n",
       "      <th>job</th>\n",
       "      <th>marital</th>\n",
       "      <th>education</th>\n",
       "      <th>default</th>\n",
       "      <th>balance</th>\n",
       "      <th>housing</th>\n",
       "      <th>loan</th>\n",
       "      <th>contact</th>\n",
       "      <th>day</th>\n",
       "      <th>month</th>\n",
       "      <th>duration</th>\n",
       "      <th>campaign</th>\n",
       "      <th>pdays</th>\n",
       "      <th>previous</th>\n",
       "      <th>poutcome</th>\n",
       "      <th>y</th>\n",
       "    </tr>\n",
       "  </thead>\n",
       "  <tbody>\n",
       "    <tr>\n",
       "      <th>0</th>\n",
       "      <td>58</td>\n",
       "      <td>management</td>\n",
       "      <td>married</td>\n",
       "      <td>tertiary</td>\n",
       "      <td>no</td>\n",
       "      <td>2143</td>\n",
       "      <td>yes</td>\n",
       "      <td>no</td>\n",
       "      <td>unknown</td>\n",
       "      <td>5</td>\n",
       "      <td>may</td>\n",
       "      <td>261</td>\n",
       "      <td>1</td>\n",
       "      <td>-1</td>\n",
       "      <td>0</td>\n",
       "      <td>unknown</td>\n",
       "      <td>no</td>\n",
       "    </tr>\n",
       "    <tr>\n",
       "      <th>1</th>\n",
       "      <td>44</td>\n",
       "      <td>technician</td>\n",
       "      <td>single</td>\n",
       "      <td>secondary</td>\n",
       "      <td>no</td>\n",
       "      <td>29</td>\n",
       "      <td>yes</td>\n",
       "      <td>no</td>\n",
       "      <td>unknown</td>\n",
       "      <td>5</td>\n",
       "      <td>may</td>\n",
       "      <td>151</td>\n",
       "      <td>1</td>\n",
       "      <td>-1</td>\n",
       "      <td>0</td>\n",
       "      <td>unknown</td>\n",
       "      <td>no</td>\n",
       "    </tr>\n",
       "    <tr>\n",
       "      <th>2</th>\n",
       "      <td>33</td>\n",
       "      <td>entrepreneur</td>\n",
       "      <td>married</td>\n",
       "      <td>secondary</td>\n",
       "      <td>no</td>\n",
       "      <td>2</td>\n",
       "      <td>yes</td>\n",
       "      <td>yes</td>\n",
       "      <td>unknown</td>\n",
       "      <td>5</td>\n",
       "      <td>may</td>\n",
       "      <td>76</td>\n",
       "      <td>1</td>\n",
       "      <td>-1</td>\n",
       "      <td>0</td>\n",
       "      <td>unknown</td>\n",
       "      <td>no</td>\n",
       "    </tr>\n",
       "    <tr>\n",
       "      <th>3</th>\n",
       "      <td>47</td>\n",
       "      <td>blue-collar</td>\n",
       "      <td>married</td>\n",
       "      <td>unknown</td>\n",
       "      <td>no</td>\n",
       "      <td>1506</td>\n",
       "      <td>yes</td>\n",
       "      <td>no</td>\n",
       "      <td>unknown</td>\n",
       "      <td>5</td>\n",
       "      <td>may</td>\n",
       "      <td>92</td>\n",
       "      <td>1</td>\n",
       "      <td>-1</td>\n",
       "      <td>0</td>\n",
       "      <td>unknown</td>\n",
       "      <td>no</td>\n",
       "    </tr>\n",
       "    <tr>\n",
       "      <th>4</th>\n",
       "      <td>33</td>\n",
       "      <td>unknown</td>\n",
       "      <td>single</td>\n",
       "      <td>unknown</td>\n",
       "      <td>no</td>\n",
       "      <td>1</td>\n",
       "      <td>no</td>\n",
       "      <td>no</td>\n",
       "      <td>unknown</td>\n",
       "      <td>5</td>\n",
       "      <td>may</td>\n",
       "      <td>198</td>\n",
       "      <td>1</td>\n",
       "      <td>-1</td>\n",
       "      <td>0</td>\n",
       "      <td>unknown</td>\n",
       "      <td>no</td>\n",
       "    </tr>\n",
       "    <tr>\n",
       "      <th>...</th>\n",
       "      <td>...</td>\n",
       "      <td>...</td>\n",
       "      <td>...</td>\n",
       "      <td>...</td>\n",
       "      <td>...</td>\n",
       "      <td>...</td>\n",
       "      <td>...</td>\n",
       "      <td>...</td>\n",
       "      <td>...</td>\n",
       "      <td>...</td>\n",
       "      <td>...</td>\n",
       "      <td>...</td>\n",
       "      <td>...</td>\n",
       "      <td>...</td>\n",
       "      <td>...</td>\n",
       "      <td>...</td>\n",
       "      <td>...</td>\n",
       "    </tr>\n",
       "    <tr>\n",
       "      <th>495</th>\n",
       "      <td>39</td>\n",
       "      <td>admin.</td>\n",
       "      <td>single</td>\n",
       "      <td>secondary</td>\n",
       "      <td>no</td>\n",
       "      <td>0</td>\n",
       "      <td>yes</td>\n",
       "      <td>no</td>\n",
       "      <td>unknown</td>\n",
       "      <td>6</td>\n",
       "      <td>may</td>\n",
       "      <td>174</td>\n",
       "      <td>2</td>\n",
       "      <td>-1</td>\n",
       "      <td>0</td>\n",
       "      <td>unknown</td>\n",
       "      <td>no</td>\n",
       "    </tr>\n",
       "    <tr>\n",
       "      <th>496</th>\n",
       "      <td>39</td>\n",
       "      <td>blue-collar</td>\n",
       "      <td>divorced</td>\n",
       "      <td>secondary</td>\n",
       "      <td>no</td>\n",
       "      <td>42</td>\n",
       "      <td>yes</td>\n",
       "      <td>no</td>\n",
       "      <td>unknown</td>\n",
       "      <td>6</td>\n",
       "      <td>may</td>\n",
       "      <td>226</td>\n",
       "      <td>2</td>\n",
       "      <td>-1</td>\n",
       "      <td>0</td>\n",
       "      <td>unknown</td>\n",
       "      <td>no</td>\n",
       "    </tr>\n",
       "    <tr>\n",
       "      <th>497</th>\n",
       "      <td>50</td>\n",
       "      <td>blue-collar</td>\n",
       "      <td>divorced</td>\n",
       "      <td>secondary</td>\n",
       "      <td>no</td>\n",
       "      <td>41</td>\n",
       "      <td>yes</td>\n",
       "      <td>no</td>\n",
       "      <td>unknown</td>\n",
       "      <td>6</td>\n",
       "      <td>may</td>\n",
       "      <td>190</td>\n",
       "      <td>1</td>\n",
       "      <td>-1</td>\n",
       "      <td>0</td>\n",
       "      <td>unknown</td>\n",
       "      <td>no</td>\n",
       "    </tr>\n",
       "    <tr>\n",
       "      <th>498</th>\n",
       "      <td>44</td>\n",
       "      <td>blue-collar</td>\n",
       "      <td>married</td>\n",
       "      <td>secondary</td>\n",
       "      <td>no</td>\n",
       "      <td>-99</td>\n",
       "      <td>yes</td>\n",
       "      <td>no</td>\n",
       "      <td>unknown</td>\n",
       "      <td>6</td>\n",
       "      <td>may</td>\n",
       "      <td>111</td>\n",
       "      <td>2</td>\n",
       "      <td>-1</td>\n",
       "      <td>0</td>\n",
       "      <td>unknown</td>\n",
       "      <td>no</td>\n",
       "    </tr>\n",
       "    <tr>\n",
       "      <th>499</th>\n",
       "      <td>37</td>\n",
       "      <td>technician</td>\n",
       "      <td>single</td>\n",
       "      <td>secondary</td>\n",
       "      <td>no</td>\n",
       "      <td>17</td>\n",
       "      <td>yes</td>\n",
       "      <td>no</td>\n",
       "      <td>unknown</td>\n",
       "      <td>6</td>\n",
       "      <td>may</td>\n",
       "      <td>164</td>\n",
       "      <td>1</td>\n",
       "      <td>-1</td>\n",
       "      <td>0</td>\n",
       "      <td>unknown</td>\n",
       "      <td>no</td>\n",
       "    </tr>\n",
       "  </tbody>\n",
       "</table>\n",
       "<p>500 rows × 17 columns</p>\n",
       "</div>"
      ]
     },
     "execution_count": 4,
     "metadata": {},
     "output_type": "execute_result"
    }
   ],
   "execution_count": 4
  },
  {
   "metadata": {
    "ExecuteTime": {
     "end_time": "2024-12-22T19:52:32.734856Z",
     "start_time": "2024-12-22T19:52:32.714967Z"
    }
   },
   "cell_type": "code",
   "source": [
    "# Get information\n",
    "data_frame.info()\n",
    "print(\"--------------------\")\n",
    "data_frame.shape\n",
    "# There are 45211 rows and 17 columns\n",
    "# There are no missing values in the data frame"
   ],
   "id": "98a023ae76b91019",
   "outputs": [
    {
     "name": "stdout",
     "output_type": "stream",
     "text": [
      "<class 'pandas.core.frame.DataFrame'>\n",
      "RangeIndex: 45211 entries, 0 to 45210\n",
      "Data columns (total 17 columns):\n",
      " #   Column     Non-Null Count  Dtype \n",
      "---  ------     --------------  ----- \n",
      " 0   age        45211 non-null  int64 \n",
      " 1   job        45211 non-null  object\n",
      " 2   marital    45211 non-null  object\n",
      " 3   education  45211 non-null  object\n",
      " 4   default    45211 non-null  object\n",
      " 5   balance    45211 non-null  int64 \n",
      " 6   housing    45211 non-null  object\n",
      " 7   loan       45211 non-null  object\n",
      " 8   contact    45211 non-null  object\n",
      " 9   day        45211 non-null  int64 \n",
      " 10  month      45211 non-null  object\n",
      " 11  duration   45211 non-null  int64 \n",
      " 12  campaign   45211 non-null  int64 \n",
      " 13  pdays      45211 non-null  int64 \n",
      " 14  previous   45211 non-null  int64 \n",
      " 15  poutcome   45211 non-null  object\n",
      " 16  y          45211 non-null  object\n",
      "dtypes: int64(7), object(10)\n",
      "memory usage: 5.9+ MB\n",
      "--------------------\n"
     ]
    },
    {
     "data": {
      "text/plain": [
       "(45211, 17)"
      ]
     },
     "execution_count": 5,
     "metadata": {},
     "output_type": "execute_result"
    }
   ],
   "execution_count": 5
  },
  {
   "metadata": {
    "ExecuteTime": {
     "end_time": "2024-12-22T19:52:32.900950Z",
     "start_time": "2024-12-22T19:52:32.881829Z"
    }
   },
   "cell_type": "code",
   "source": [
    "num = 1\n",
    "for col in data_frame.select_dtypes(include='object').columns:\n",
    "    print(str(num) + \" \" + col + \" --> \" + str(data_frame[col].unique()))\n",
    "    num += 1"
   ],
   "id": "3e7b88bbb5ebbf86",
   "outputs": [
    {
     "name": "stdout",
     "output_type": "stream",
     "text": [
      "1 job --> ['management' 'technician' 'entrepreneur' 'blue-collar' 'unknown'\n",
      " 'retired' 'admin.' 'services' 'self-employed' 'unemployed' 'housemaid'\n",
      " 'student']\n",
      "2 marital --> ['married' 'single' 'divorced']\n",
      "3 education --> ['tertiary' 'secondary' 'unknown' 'primary']\n",
      "4 default --> ['no' 'yes']\n",
      "5 housing --> ['yes' 'no']\n",
      "6 loan --> ['no' 'yes']\n",
      "7 contact --> ['unknown' 'cellular' 'telephone']\n",
      "8 month --> ['may' 'jun' 'jul' 'aug' 'oct' 'nov' 'dec' 'jan' 'feb' 'mar' 'apr' 'sep']\n",
      "9 poutcome --> ['unknown' 'failure' 'other' 'success']\n",
      "10 y --> ['no' 'yes']\n"
     ]
    }
   ],
   "execution_count": 6
  },
  {
   "metadata": {
    "ExecuteTime": {
     "end_time": "2024-12-22T19:52:33.003255Z",
     "start_time": "2024-12-22T19:52:32.998547Z"
    }
   },
   "cell_type": "code",
   "source": [
    "num = 1\n",
    "for col in data_frame.select_dtypes(include='int64').columns:\n",
    "    print(str(num) + \" \" + col)\n",
    "    num += 1"
   ],
   "id": "9286601480a8d8cc",
   "outputs": [
    {
     "name": "stdout",
     "output_type": "stream",
     "text": [
      "1 age\n",
      "2 balance\n",
      "3 day\n",
      "4 duration\n",
      "5 campaign\n",
      "6 pdays\n",
      "7 previous\n"
     ]
    }
   ],
   "execution_count": 7
  },
  {
   "metadata": {},
   "cell_type": "markdown",
   "source": "* There are 10 categorical columns and 7 numerical columns",
   "id": "fa89cca4a64694fc"
  },
  {
   "metadata": {},
   "cell_type": "markdown",
   "source": "### About dataset ",
   "id": "1ec307336d5efc3"
  },
  {
   "metadata": {},
   "cell_type": "markdown",
   "source": [
    "### Exploratory Data Analysis\n",
    "\n",
    "* Select the correct columns for the model training\n",
    "* Search for missing values"
   ],
   "id": "85c1279c998c3c5c"
  },
  {
   "metadata": {},
   "cell_type": "markdown",
   "source": [
    "#### (1) --> Select the correct columns\n",
    "\n",
    "* Select all columns except the last column\n",
    "* The last column --> target column\n",
    "* For the entire project all columns are selected, no need to remove.\n"
   ],
   "id": "662d1e8c7cdae9e4"
  },
  {
   "metadata": {
    "ExecuteTime": {
     "end_time": "2024-12-22T19:52:33.081146Z",
     "start_time": "2024-12-22T19:52:33.078207Z"
    }
   },
   "cell_type": "code",
   "source": [
    "# All Column names\n",
    "all_columns = data_frame.columns\n",
    "print(all_columns)"
   ],
   "id": "f1c8dadcffba549d",
   "outputs": [
    {
     "name": "stdout",
     "output_type": "stream",
     "text": [
      "Index(['age', 'job', 'marital', 'education', 'default', 'balance', 'housing',\n",
      "       'loan', 'contact', 'day', 'month', 'duration', 'campaign', 'pdays',\n",
      "       'previous', 'poutcome', 'y'],\n",
      "      dtype='object')\n"
     ]
    }
   ],
   "execution_count": 8
  },
  {
   "metadata": {},
   "cell_type": "markdown",
   "source": "#### (2) --> Search for missing values",
   "id": "5c12527a9a04c59f"
  },
  {
   "metadata": {
    "ExecuteTime": {
     "end_time": "2024-12-22T19:52:33.165253Z",
     "start_time": "2024-12-22T19:52:33.151103Z"
    }
   },
   "cell_type": "code",
   "source": [
    "# Handle missing values\n",
    "missing_value_col = []\n",
    "\n",
    "# Check each column for missing values\n",
    "for column in data_frame.columns:\n",
    "    # If the column has any missing values, add to the list\n",
    "    if data_frame[column].isnull().sum() > 0:\n",
    "        missing_value_col.append(column)\n",
    "\n",
    "    \n",
    "# If no missing values are found\n",
    "if not missing_value_col:\n",
    "    print(\"No missing value found\")\n",
    "else:\n",
    "    print(\"Missing values found in columns: \", missing_value_col)"
   ],
   "id": "feb8edbf4358483f",
   "outputs": [
    {
     "name": "stdout",
     "output_type": "stream",
     "text": [
      "No missing value found\n"
     ]
    }
   ],
   "execution_count": 9
  },
  {
   "metadata": {},
   "cell_type": "markdown",
   "source": [
    "* No missing values found\n",
    "* No need to handle missing values"
   ],
   "id": "7c24bc0789944573"
  },
  {
   "metadata": {},
   "cell_type": "markdown",
   "source": "#### (4) --> Find the features with one value (constant values)",
   "id": "7e4f816b7557162"
  },
  {
   "metadata": {
    "ExecuteTime": {
     "end_time": "2024-12-22T19:52:33.229873Z",
     "start_time": "2024-12-22T19:52:33.203894Z"
    }
   },
   "cell_type": "code",
   "source": [
    "# Iterate through all columns\n",
    "for column in data_frame.select_dtypes(include='object').columns:\n",
    "    # If a column has only one unique value\n",
    "    print(column,data_frame[column].nunique())"
   ],
   "id": "a0936d592b1ceb35",
   "outputs": [
    {
     "name": "stdout",
     "output_type": "stream",
     "text": [
      "job 12\n",
      "marital 3\n",
      "education 4\n",
      "default 2\n",
      "housing 2\n",
      "loan 2\n",
      "contact 3\n",
      "month 12\n",
      "poutcome 4\n",
      "y 2\n"
     ]
    }
   ],
   "execution_count": 10
  },
  {
   "metadata": {},
   "cell_type": "markdown",
   "source": "* There are no single value columns",
   "id": "db01eff7bb40b5c2"
  },
  {
   "metadata": {},
   "cell_type": "markdown",
   "source": "#### (4) --> Examine target variable distribution",
   "id": "4dd295d1dc9af03d"
  },
  {
   "metadata": {
    "ExecuteTime": {
     "end_time": "2024-12-22T19:52:33.327187Z",
     "start_time": "2024-12-22T19:52:33.304797Z"
    }
   },
   "cell_type": "code",
   "source": [
    "# Distribution of target variable --> y (subscribed deposit or not)\n",
    "print(data_frame['y'].value_counts())"
   ],
   "id": "21879f367e82e8b7",
   "outputs": [
    {
     "name": "stdout",
     "output_type": "stream",
     "text": [
      "y\n",
      "no     39922\n",
      "yes     5289\n",
      "Name: count, dtype: int64\n"
     ]
    }
   ],
   "execution_count": 11
  },
  {
   "metadata": {
    "ExecuteTime": {
     "end_time": "2024-12-22T19:52:33.700049Z",
     "start_time": "2024-12-22T19:52:33.422300Z"
    }
   },
   "cell_type": "code",
   "source": [
    "# Plot the distribution of the target variable\n",
    "sns.countplot(x='y', data=data_frame)\n",
    "plt.title('Target variable')\n",
    "plt.show()\n",
    "\n",
    "# Show pie plot \n",
    "plt.figure(figsize=(5,5))\n",
    "data_frame['y'].value_counts().plot.pie(autopct='%1.1f%%')"
   ],
   "id": "c65d3904126f9283",
   "outputs": [
    {
     "data": {
      "text/plain": [
       "<Figure size 640x480 with 1 Axes>"
      ],
      "image/png": "[encoded data removed]"
     },
     "metadata": {},
     "output_type": "display_data"
    },
    {
     "data": {
      "text/plain": [
       "<Axes: ylabel='count'>"
      ]
     },
     "execution_count": 12,
     "metadata": {},
     "output_type": "execute_result"
    },
    {
     "data": {
      "text/plain": [
       "<Figure size 500x500 with 1 Axes>"
      ],
      "image/png": "[encoded data removed]"
     },
     "metadata": {},
     "output_type": "display_data"
    }
   ],
   "execution_count": 12
  },
  {
   "metadata": {},
   "cell_type": "markdown",
   "source": "#### Using SMOTE, the number of instances in each class is balanced",
   "id": "e8900cf09bb6f645"
  },
  {
   "metadata": {
    "ExecuteTime": {
     "end_time": "2024-12-22T19:52:34.833975Z",
     "start_time": "2024-12-22T19:52:33.757971Z"
    }
   },
   "cell_type": "code",
   "source": [
    "from imblearn.over_sampling import SMOTE\n",
    "from collections import Counter\n",
    "import pandas as pd\n",
    "import matplotlib.pyplot as plt\n",
    "\n",
    "# Load the dataset\n",
    "data = pd.read_csv('bank-full.csv', sep=';')\n",
    "\n",
    "# Separate the features and the target\n",
    "X = data.drop('y', axis=1)\n",
    "y = data['y']\n",
    "\n",
    "# Split the data into training and testing sets\n",
    "from sklearn.model_selection import train_test_split\n",
    "X_train, X_test, y_train, y_test = train_test_split(X, y, test_size=0.3, random_state=42)\n",
    "\n",
    "# Counting the number of instances in each class before oversampling\n",
    "counter = Counter(y_train)\n",
    "total_before = sum(counter.values())\n",
    "print('Before:', counter)\n",
    "for cls, count in counter.items():\n",
    "    print(f'Class {cls}: {count} ({count / total_before:.2%})')\n",
    "plt.bar(counter.keys(), counter.values())\n",
    "plt.title('Class Distribution Before Oversampling')\n",
    "plt.show()\n",
    "\n",
    "# Oversampling the train dataset using SMOTE\n",
    "smt = SMOTE(random_state=139)\n",
    "X_train_sm, y_train_sm = smt.fit_resample(X_train, y_train)\n",
    "\n",
    "# Counting the number of instances in each class after oversampling\n",
    "counter = Counter(y_train_sm)\n",
    "total_after = sum(counter.values())\n",
    "print('After:', counter)\n",
    "for cls, count in counter.items():\n",
    "    print(f'Class {cls}: {count} ({count / total_after:.2%})')\n",
    "plt.bar(counter.keys(), counter.values())\n",
    "plt.title('Class Distribution After Oversampling')\n",
    "plt.show()"
   ],
   "id": "822713898fa29f8b",
   "outputs": [
    {
     "name": "stdout",
     "output_type": "stream",
     "text": [
      "Before: Counter({'no': 27956, 'yes': 3691})\n",
      "Class no: 27956 (88.34%)\n",
      "Class yes: 3691 (11.66%)\n"
     ]
    },
    {
     "data": {
      "text/plain": [
       "<Figure size 640x480 with 1 Axes>"
      ],
      "image/png": "[encoded data removed]"
     },
     "metadata": {},
     "output_type": "display_data"
    },
    {
     "ename": "ValueError",
     "evalue": "could not convert string to float: 'technician'",
     "output_type": "error",
     "traceback": [
      "\u001B[1;31m---------------------------------------------------------------------------\u001B[0m",
      "\u001B[1;31mValueError\u001B[0m                                Traceback (most recent call last)",
      "\u001B[1;32m~\\AppData\\Local\\Temp\\ipykernel_18320\\35008252.py\u001B[0m in \u001B[0;36m?\u001B[1;34m()\u001B[0m\n\u001B[0;32m     25\u001B[0m \u001B[0mplt\u001B[0m\u001B[1;33m.\u001B[0m\u001B[0mshow\u001B[0m\u001B[1;33m(\u001B[0m\u001B[1;33m)\u001B[0m\u001B[1;33m\u001B[0m\u001B[1;33m\u001B[0m\u001B[0m\n\u001B[0;32m     26\u001B[0m \u001B[1;33m\u001B[0m\u001B[0m\n\u001B[0;32m     27\u001B[0m \u001B[1;31m# Oversampling the train dataset using SMOTE\u001B[0m\u001B[1;33m\u001B[0m\u001B[1;33m\u001B[0m\u001B[0m\n\u001B[0;32m     28\u001B[0m \u001B[0msmt\u001B[0m \u001B[1;33m=\u001B[0m \u001B[0mSMOTE\u001B[0m\u001B[1;33m(\u001B[0m\u001B[0mrandom_state\u001B[0m\u001B[1;33m=\u001B[0m\u001B[1;36m139\u001B[0m\u001B[1;33m)\u001B[0m\u001B[1;33m\u001B[0m\u001B[1;33m\u001B[0m\u001B[0m\n\u001B[1;32m---> 29\u001B[1;33m \u001B[0mX_train_sm\u001B[0m\u001B[1;33m,\u001B[0m \u001B[0my_train_sm\u001B[0m \u001B[1;33m=\u001B[0m \u001B[0msmt\u001B[0m\u001B[1;33m.\u001B[0m\u001B[0mfit_resample\u001B[0m\u001B[1;33m(\u001B[0m\u001B[0mX_train\u001B[0m\u001B[1;33m,\u001B[0m \u001B[0my_train\u001B[0m\u001B[1;33m)\u001B[0m\u001B[1;33m\u001B[0m\u001B[1;33m\u001B[0m\u001B[0m\n\u001B[0m\u001B[0;32m     30\u001B[0m \u001B[1;33m\u001B[0m\u001B[0m\n\u001B[0;32m     31\u001B[0m \u001B[1;31m# Counting the number of instances in each class after oversampling\u001B[0m\u001B[1;33m\u001B[0m\u001B[1;33m\u001B[0m\u001B[0m\n\u001B[0;32m     32\u001B[0m \u001B[0mcounter\u001B[0m \u001B[1;33m=\u001B[0m \u001B[0mCounter\u001B[0m\u001B[1;33m(\u001B[0m\u001B[0my_train_sm\u001B[0m\u001B[1;33m)\u001B[0m\u001B[1;33m\u001B[0m\u001B[1;33m\u001B[0m\u001B[0m\n",
      "\u001B[1;32m~\\miniconda3\\envs\\MLConda\\Lib\\site-packages\\imblearn\\base.py\u001B[0m in \u001B[0;36m?\u001B[1;34m(self, X, y)\u001B[0m\n\u001B[0;32m    204\u001B[0m         \u001B[0my_resampled\u001B[0m \u001B[1;33m:\u001B[0m \u001B[0marray\u001B[0m\u001B[1;33m-\u001B[0m\u001B[0mlike\u001B[0m \u001B[0mof\u001B[0m \u001B[0mshape\u001B[0m \u001B[1;33m(\u001B[0m\u001B[0mn_samples_new\u001B[0m\u001B[1;33m,\u001B[0m\u001B[1;33m)\u001B[0m\u001B[1;33m\u001B[0m\u001B[1;33m\u001B[0m\u001B[0m\n\u001B[0;32m    205\u001B[0m             \u001B[0mThe\u001B[0m \u001B[0mcorresponding\u001B[0m \u001B[0mlabel\u001B[0m \u001B[0mof\u001B[0m\u001B[0;31m \u001B[0m\u001B[0;31m`\u001B[0m\u001B[0mX_resampled\u001B[0m\u001B[0;31m`\u001B[0m\u001B[1;33m.\u001B[0m\u001B[1;33m\u001B[0m\u001B[1;33m\u001B[0m\u001B[0m\n\u001B[0;32m    206\u001B[0m         \"\"\"\n\u001B[0;32m    207\u001B[0m         \u001B[0mself\u001B[0m\u001B[1;33m.\u001B[0m\u001B[0m_validate_params\u001B[0m\u001B[1;33m(\u001B[0m\u001B[1;33m)\u001B[0m\u001B[1;33m\u001B[0m\u001B[1;33m\u001B[0m\u001B[0m\n\u001B[1;32m--> 208\u001B[1;33m         \u001B[1;32mreturn\u001B[0m \u001B[0msuper\u001B[0m\u001B[1;33m(\u001B[0m\u001B[1;33m)\u001B[0m\u001B[1;33m.\u001B[0m\u001B[0mfit_resample\u001B[0m\u001B[1;33m(\u001B[0m\u001B[0mX\u001B[0m\u001B[1;33m,\u001B[0m \u001B[0my\u001B[0m\u001B[1;33m)\u001B[0m\u001B[1;33m\u001B[0m\u001B[1;33m\u001B[0m\u001B[0m\n\u001B[0m",
      "\u001B[1;32m~\\miniconda3\\envs\\MLConda\\Lib\\site-packages\\imblearn\\base.py\u001B[0m in \u001B[0;36m?\u001B[1;34m(self, X, y)\u001B[0m\n\u001B[0;32m    102\u001B[0m             \u001B[0mThe\u001B[0m \u001B[0mcorresponding\u001B[0m \u001B[0mlabel\u001B[0m \u001B[0mof\u001B[0m\u001B[0;31m \u001B[0m\u001B[0;31m`\u001B[0m\u001B[0mX_resampled\u001B[0m\u001B[0;31m`\u001B[0m\u001B[1;33m.\u001B[0m\u001B[1;33m\u001B[0m\u001B[1;33m\u001B[0m\u001B[0m\n\u001B[0;32m    103\u001B[0m         \"\"\"\n\u001B[0;32m    104\u001B[0m         \u001B[0mcheck_classification_targets\u001B[0m\u001B[1;33m(\u001B[0m\u001B[0my\u001B[0m\u001B[1;33m)\u001B[0m\u001B[1;33m\u001B[0m\u001B[1;33m\u001B[0m\u001B[0m\n\u001B[0;32m    105\u001B[0m         \u001B[0marrays_transformer\u001B[0m \u001B[1;33m=\u001B[0m \u001B[0mArraysTransformer\u001B[0m\u001B[1;33m(\u001B[0m\u001B[0mX\u001B[0m\u001B[1;33m,\u001B[0m \u001B[0my\u001B[0m\u001B[1;33m)\u001B[0m\u001B[1;33m\u001B[0m\u001B[1;33m\u001B[0m\u001B[0m\n\u001B[1;32m--> 106\u001B[1;33m         \u001B[0mX\u001B[0m\u001B[1;33m,\u001B[0m \u001B[0my\u001B[0m\u001B[1;33m,\u001B[0m \u001B[0mbinarize_y\u001B[0m \u001B[1;33m=\u001B[0m \u001B[0mself\u001B[0m\u001B[1;33m.\u001B[0m\u001B[0m_check_X_y\u001B[0m\u001B[1;33m(\u001B[0m\u001B[0mX\u001B[0m\u001B[1;33m,\u001B[0m \u001B[0my\u001B[0m\u001B[1;33m)\u001B[0m\u001B[1;33m\u001B[0m\u001B[1;33m\u001B[0m\u001B[0m\n\u001B[0m\u001B[0;32m    107\u001B[0m \u001B[1;33m\u001B[0m\u001B[0m\n\u001B[0;32m    108\u001B[0m         self.sampling_strategy_ = check_sampling_strategy(\n\u001B[0;32m    109\u001B[0m             \u001B[0mself\u001B[0m\u001B[1;33m.\u001B[0m\u001B[0msampling_strategy\u001B[0m\u001B[1;33m,\u001B[0m \u001B[0my\u001B[0m\u001B[1;33m,\u001B[0m \u001B[0mself\u001B[0m\u001B[1;33m.\u001B[0m\u001B[0m_sampling_type\u001B[0m\u001B[1;33m\u001B[0m\u001B[1;33m\u001B[0m\u001B[0m\n",
      "\u001B[1;32m~\\miniconda3\\envs\\MLConda\\Lib\\site-packages\\imblearn\\base.py\u001B[0m in \u001B[0;36m?\u001B[1;34m(self, X, y, accept_sparse)\u001B[0m\n\u001B[0;32m    157\u001B[0m     \u001B[1;32mdef\u001B[0m \u001B[0m_check_X_y\u001B[0m\u001B[1;33m(\u001B[0m\u001B[0mself\u001B[0m\u001B[1;33m,\u001B[0m \u001B[0mX\u001B[0m\u001B[1;33m,\u001B[0m \u001B[0my\u001B[0m\u001B[1;33m,\u001B[0m \u001B[0maccept_sparse\u001B[0m\u001B[1;33m=\u001B[0m\u001B[1;32mNone\u001B[0m\u001B[1;33m)\u001B[0m\u001B[1;33m:\u001B[0m\u001B[1;33m\u001B[0m\u001B[1;33m\u001B[0m\u001B[0m\n\u001B[0;32m    158\u001B[0m         \u001B[1;32mif\u001B[0m \u001B[0maccept_sparse\u001B[0m \u001B[1;32mis\u001B[0m \u001B[1;32mNone\u001B[0m\u001B[1;33m:\u001B[0m\u001B[1;33m\u001B[0m\u001B[1;33m\u001B[0m\u001B[0m\n\u001B[0;32m    159\u001B[0m             \u001B[0maccept_sparse\u001B[0m \u001B[1;33m=\u001B[0m \u001B[1;33m[\u001B[0m\u001B[1;34m\"csr\"\u001B[0m\u001B[1;33m,\u001B[0m \u001B[1;34m\"csc\"\u001B[0m\u001B[1;33m]\u001B[0m\u001B[1;33m\u001B[0m\u001B[1;33m\u001B[0m\u001B[0m\n\u001B[0;32m    160\u001B[0m         \u001B[0my\u001B[0m\u001B[1;33m,\u001B[0m \u001B[0mbinarize_y\u001B[0m \u001B[1;33m=\u001B[0m \u001B[0mcheck_target_type\u001B[0m\u001B[1;33m(\u001B[0m\u001B[0my\u001B[0m\u001B[1;33m,\u001B[0m \u001B[0mindicate_one_vs_all\u001B[0m\u001B[1;33m=\u001B[0m\u001B[1;32mTrue\u001B[0m\u001B[1;33m)\u001B[0m\u001B[1;33m\u001B[0m\u001B[1;33m\u001B[0m\u001B[0m\n\u001B[1;32m--> 161\u001B[1;33m         \u001B[0mX\u001B[0m\u001B[1;33m,\u001B[0m \u001B[0my\u001B[0m \u001B[1;33m=\u001B[0m \u001B[0mself\u001B[0m\u001B[1;33m.\u001B[0m\u001B[0m_validate_data\u001B[0m\u001B[1;33m(\u001B[0m\u001B[0mX\u001B[0m\u001B[1;33m,\u001B[0m \u001B[0my\u001B[0m\u001B[1;33m,\u001B[0m \u001B[0mreset\u001B[0m\u001B[1;33m=\u001B[0m\u001B[1;32mTrue\u001B[0m\u001B[1;33m,\u001B[0m \u001B[0maccept_sparse\u001B[0m\u001B[1;33m=\u001B[0m\u001B[0maccept_sparse\u001B[0m\u001B[1;33m)\u001B[0m\u001B[1;33m\u001B[0m\u001B[1;33m\u001B[0m\u001B[0m\n\u001B[0m\u001B[0;32m    162\u001B[0m         \u001B[1;32mreturn\u001B[0m \u001B[0mX\u001B[0m\u001B[1;33m,\u001B[0m \u001B[0my\u001B[0m\u001B[1;33m,\u001B[0m \u001B[0mbinarize_y\u001B[0m\u001B[1;33m\u001B[0m\u001B[1;33m\u001B[0m\u001B[0m\n",
      "\u001B[1;32m~\\miniconda3\\envs\\MLConda\\Lib\\site-packages\\sklearn\\base.py\u001B[0m in \u001B[0;36m?\u001B[1;34m(self, X, y, reset, validate_separately, cast_to_ndarray, **check_params)\u001B[0m\n\u001B[0;32m    646\u001B[0m                 \u001B[1;32mif\u001B[0m \u001B[1;34m\"estimator\"\u001B[0m \u001B[1;32mnot\u001B[0m \u001B[1;32min\u001B[0m \u001B[0mcheck_y_params\u001B[0m\u001B[1;33m:\u001B[0m\u001B[1;33m\u001B[0m\u001B[1;33m\u001B[0m\u001B[0m\n\u001B[0;32m    647\u001B[0m                     \u001B[0mcheck_y_params\u001B[0m \u001B[1;33m=\u001B[0m \u001B[1;33m{\u001B[0m\u001B[1;33m**\u001B[0m\u001B[0mdefault_check_params\u001B[0m\u001B[1;33m,\u001B[0m \u001B[1;33m**\u001B[0m\u001B[0mcheck_y_params\u001B[0m\u001B[1;33m}\u001B[0m\u001B[1;33m\u001B[0m\u001B[1;33m\u001B[0m\u001B[0m\n\u001B[0;32m    648\u001B[0m                 \u001B[0my\u001B[0m \u001B[1;33m=\u001B[0m \u001B[0mcheck_array\u001B[0m\u001B[1;33m(\u001B[0m\u001B[0my\u001B[0m\u001B[1;33m,\u001B[0m \u001B[0minput_name\u001B[0m\u001B[1;33m=\u001B[0m\u001B[1;34m\"y\"\u001B[0m\u001B[1;33m,\u001B[0m \u001B[1;33m**\u001B[0m\u001B[0mcheck_y_params\u001B[0m\u001B[1;33m)\u001B[0m\u001B[1;33m\u001B[0m\u001B[1;33m\u001B[0m\u001B[0m\n\u001B[0;32m    649\u001B[0m             \u001B[1;32melse\u001B[0m\u001B[1;33m:\u001B[0m\u001B[1;33m\u001B[0m\u001B[1;33m\u001B[0m\u001B[0m\n\u001B[1;32m--> 650\u001B[1;33m                 \u001B[0mX\u001B[0m\u001B[1;33m,\u001B[0m \u001B[0my\u001B[0m \u001B[1;33m=\u001B[0m \u001B[0mcheck_X_y\u001B[0m\u001B[1;33m(\u001B[0m\u001B[0mX\u001B[0m\u001B[1;33m,\u001B[0m \u001B[0my\u001B[0m\u001B[1;33m,\u001B[0m \u001B[1;33m**\u001B[0m\u001B[0mcheck_params\u001B[0m\u001B[1;33m)\u001B[0m\u001B[1;33m\u001B[0m\u001B[1;33m\u001B[0m\u001B[0m\n\u001B[0m\u001B[0;32m    651\u001B[0m             \u001B[0mout\u001B[0m \u001B[1;33m=\u001B[0m \u001B[0mX\u001B[0m\u001B[1;33m,\u001B[0m \u001B[0my\u001B[0m\u001B[1;33m\u001B[0m\u001B[1;33m\u001B[0m\u001B[0m\n\u001B[0;32m    652\u001B[0m \u001B[1;33m\u001B[0m\u001B[0m\n\u001B[0;32m    653\u001B[0m         \u001B[1;32mif\u001B[0m \u001B[1;32mnot\u001B[0m \u001B[0mno_val_X\u001B[0m \u001B[1;32mand\u001B[0m \u001B[0mcheck_params\u001B[0m\u001B[1;33m.\u001B[0m\u001B[0mget\u001B[0m\u001B[1;33m(\u001B[0m\u001B[1;34m\"ensure_2d\"\u001B[0m\u001B[1;33m,\u001B[0m \u001B[1;32mTrue\u001B[0m\u001B[1;33m)\u001B[0m\u001B[1;33m:\u001B[0m\u001B[1;33m\u001B[0m\u001B[1;33m\u001B[0m\u001B[0m\n",
      "\u001B[1;32m~\\miniconda3\\envs\\MLConda\\Lib\\site-packages\\sklearn\\utils\\validation.py\u001B[0m in \u001B[0;36m?\u001B[1;34m(X, y, accept_sparse, accept_large_sparse, dtype, order, copy, force_writeable, force_all_finite, ensure_2d, allow_nd, multi_output, ensure_min_samples, ensure_min_features, y_numeric, estimator)\u001B[0m\n\u001B[0;32m   1297\u001B[0m         raise ValueError(\n\u001B[0;32m   1298\u001B[0m             \u001B[1;34mf\"{estimator_name} requires y to be passed, but the target y is None\"\u001B[0m\u001B[1;33m\u001B[0m\u001B[1;33m\u001B[0m\u001B[0m\n\u001B[0;32m   1299\u001B[0m         )\n\u001B[0;32m   1300\u001B[0m \u001B[1;33m\u001B[0m\u001B[0m\n\u001B[1;32m-> 1301\u001B[1;33m     X = check_array(\n\u001B[0m\u001B[0;32m   1302\u001B[0m         \u001B[0mX\u001B[0m\u001B[1;33m,\u001B[0m\u001B[1;33m\u001B[0m\u001B[1;33m\u001B[0m\u001B[0m\n\u001B[0;32m   1303\u001B[0m         \u001B[0maccept_sparse\u001B[0m\u001B[1;33m=\u001B[0m\u001B[0maccept_sparse\u001B[0m\u001B[1;33m,\u001B[0m\u001B[1;33m\u001B[0m\u001B[1;33m\u001B[0m\u001B[0m\n\u001B[0;32m   1304\u001B[0m         \u001B[0maccept_large_sparse\u001B[0m\u001B[1;33m=\u001B[0m\u001B[0maccept_large_sparse\u001B[0m\u001B[1;33m,\u001B[0m\u001B[1;33m\u001B[0m\u001B[1;33m\u001B[0m\u001B[0m\n",
      "\u001B[1;32m~\\miniconda3\\envs\\MLConda\\Lib\\site-packages\\sklearn\\utils\\validation.py\u001B[0m in \u001B[0;36m?\u001B[1;34m(array, accept_sparse, accept_large_sparse, dtype, order, copy, force_writeable, force_all_finite, ensure_2d, allow_nd, ensure_min_samples, ensure_min_features, estimator, input_name)\u001B[0m\n\u001B[0;32m   1009\u001B[0m                         )\n\u001B[0;32m   1010\u001B[0m                     \u001B[0marray\u001B[0m \u001B[1;33m=\u001B[0m \u001B[0mxp\u001B[0m\u001B[1;33m.\u001B[0m\u001B[0mastype\u001B[0m\u001B[1;33m(\u001B[0m\u001B[0marray\u001B[0m\u001B[1;33m,\u001B[0m \u001B[0mdtype\u001B[0m\u001B[1;33m,\u001B[0m \u001B[0mcopy\u001B[0m\u001B[1;33m=\u001B[0m\u001B[1;32mFalse\u001B[0m\u001B[1;33m)\u001B[0m\u001B[1;33m\u001B[0m\u001B[1;33m\u001B[0m\u001B[0m\n\u001B[0;32m   1011\u001B[0m                 \u001B[1;32melse\u001B[0m\u001B[1;33m:\u001B[0m\u001B[1;33m\u001B[0m\u001B[1;33m\u001B[0m\u001B[0m\n\u001B[0;32m   1012\u001B[0m                     \u001B[0marray\u001B[0m \u001B[1;33m=\u001B[0m \u001B[0m_asarray_with_order\u001B[0m\u001B[1;33m(\u001B[0m\u001B[0marray\u001B[0m\u001B[1;33m,\u001B[0m \u001B[0morder\u001B[0m\u001B[1;33m=\u001B[0m\u001B[0morder\u001B[0m\u001B[1;33m,\u001B[0m \u001B[0mdtype\u001B[0m\u001B[1;33m=\u001B[0m\u001B[0mdtype\u001B[0m\u001B[1;33m,\u001B[0m \u001B[0mxp\u001B[0m\u001B[1;33m=\u001B[0m\u001B[0mxp\u001B[0m\u001B[1;33m)\u001B[0m\u001B[1;33m\u001B[0m\u001B[1;33m\u001B[0m\u001B[0m\n\u001B[1;32m-> 1013\u001B[1;33m             \u001B[1;32mexcept\u001B[0m \u001B[0mComplexWarning\u001B[0m \u001B[1;32mas\u001B[0m \u001B[0mcomplex_warning\u001B[0m\u001B[1;33m:\u001B[0m\u001B[1;33m\u001B[0m\u001B[1;33m\u001B[0m\u001B[0m\n\u001B[0m\u001B[0;32m   1014\u001B[0m                 raise ValueError(\n\u001B[0;32m   1015\u001B[0m                     \u001B[1;34m\"Complex data not supported\\n{}\\n\"\u001B[0m\u001B[1;33m.\u001B[0m\u001B[0mformat\u001B[0m\u001B[1;33m(\u001B[0m\u001B[0marray\u001B[0m\u001B[1;33m)\u001B[0m\u001B[1;33m\u001B[0m\u001B[1;33m\u001B[0m\u001B[0m\n\u001B[0;32m   1016\u001B[0m                 ) from complex_warning\n",
      "\u001B[1;32m~\\miniconda3\\envs\\MLConda\\Lib\\site-packages\\sklearn\\utils\\_array_api.py\u001B[0m in \u001B[0;36m?\u001B[1;34m(array, dtype, order, copy, xp, device)\u001B[0m\n\u001B[0;32m    741\u001B[0m         \u001B[1;31m# Use NumPy API to support order\u001B[0m\u001B[1;33m\u001B[0m\u001B[1;33m\u001B[0m\u001B[0m\n\u001B[0;32m    742\u001B[0m         \u001B[1;32mif\u001B[0m \u001B[0mcopy\u001B[0m \u001B[1;32mis\u001B[0m \u001B[1;32mTrue\u001B[0m\u001B[1;33m:\u001B[0m\u001B[1;33m\u001B[0m\u001B[1;33m\u001B[0m\u001B[0m\n\u001B[0;32m    743\u001B[0m             \u001B[0marray\u001B[0m \u001B[1;33m=\u001B[0m \u001B[0mnumpy\u001B[0m\u001B[1;33m.\u001B[0m\u001B[0marray\u001B[0m\u001B[1;33m(\u001B[0m\u001B[0marray\u001B[0m\u001B[1;33m,\u001B[0m \u001B[0morder\u001B[0m\u001B[1;33m=\u001B[0m\u001B[0morder\u001B[0m\u001B[1;33m,\u001B[0m \u001B[0mdtype\u001B[0m\u001B[1;33m=\u001B[0m\u001B[0mdtype\u001B[0m\u001B[1;33m)\u001B[0m\u001B[1;33m\u001B[0m\u001B[1;33m\u001B[0m\u001B[0m\n\u001B[0;32m    744\u001B[0m         \u001B[1;32melse\u001B[0m\u001B[1;33m:\u001B[0m\u001B[1;33m\u001B[0m\u001B[1;33m\u001B[0m\u001B[0m\n\u001B[1;32m--> 745\u001B[1;33m             \u001B[0marray\u001B[0m \u001B[1;33m=\u001B[0m \u001B[0mnumpy\u001B[0m\u001B[1;33m.\u001B[0m\u001B[0masarray\u001B[0m\u001B[1;33m(\u001B[0m\u001B[0marray\u001B[0m\u001B[1;33m,\u001B[0m \u001B[0morder\u001B[0m\u001B[1;33m=\u001B[0m\u001B[0morder\u001B[0m\u001B[1;33m,\u001B[0m \u001B[0mdtype\u001B[0m\u001B[1;33m=\u001B[0m\u001B[0mdtype\u001B[0m\u001B[1;33m)\u001B[0m\u001B[1;33m\u001B[0m\u001B[1;33m\u001B[0m\u001B[0m\n\u001B[0m\u001B[0;32m    746\u001B[0m \u001B[1;33m\u001B[0m\u001B[0m\n\u001B[0;32m    747\u001B[0m         \u001B[1;31m# At this point array is a NumPy ndarray. We convert it to an array\u001B[0m\u001B[1;33m\u001B[0m\u001B[1;33m\u001B[0m\u001B[0m\n\u001B[0;32m    748\u001B[0m         \u001B[1;31m# container that is consistent with the input's namespace.\u001B[0m\u001B[1;33m\u001B[0m\u001B[1;33m\u001B[0m\u001B[0m\n",
      "\u001B[1;32m~\\miniconda3\\envs\\MLConda\\Lib\\site-packages\\pandas\\core\\generic.py\u001B[0m in \u001B[0;36m?\u001B[1;34m(self, dtype, copy)\u001B[0m\n\u001B[0;32m   2149\u001B[0m     def __array__(\n\u001B[0;32m   2150\u001B[0m         \u001B[0mself\u001B[0m\u001B[1;33m,\u001B[0m \u001B[0mdtype\u001B[0m\u001B[1;33m:\u001B[0m \u001B[0mnpt\u001B[0m\u001B[1;33m.\u001B[0m\u001B[0mDTypeLike\u001B[0m \u001B[1;33m|\u001B[0m \u001B[1;32mNone\u001B[0m \u001B[1;33m=\u001B[0m \u001B[1;32mNone\u001B[0m\u001B[1;33m,\u001B[0m \u001B[0mcopy\u001B[0m\u001B[1;33m:\u001B[0m \u001B[0mbool_t\u001B[0m \u001B[1;33m|\u001B[0m \u001B[1;32mNone\u001B[0m \u001B[1;33m=\u001B[0m \u001B[1;32mNone\u001B[0m\u001B[1;33m\u001B[0m\u001B[1;33m\u001B[0m\u001B[0m\n\u001B[0;32m   2151\u001B[0m     ) -> np.ndarray:\n\u001B[0;32m   2152\u001B[0m         \u001B[0mvalues\u001B[0m \u001B[1;33m=\u001B[0m \u001B[0mself\u001B[0m\u001B[1;33m.\u001B[0m\u001B[0m_values\u001B[0m\u001B[1;33m\u001B[0m\u001B[1;33m\u001B[0m\u001B[0m\n\u001B[1;32m-> 2153\u001B[1;33m         \u001B[0marr\u001B[0m \u001B[1;33m=\u001B[0m \u001B[0mnp\u001B[0m\u001B[1;33m.\u001B[0m\u001B[0masarray\u001B[0m\u001B[1;33m(\u001B[0m\u001B[0mvalues\u001B[0m\u001B[1;33m,\u001B[0m \u001B[0mdtype\u001B[0m\u001B[1;33m=\u001B[0m\u001B[0mdtype\u001B[0m\u001B[1;33m)\u001B[0m\u001B[1;33m\u001B[0m\u001B[1;33m\u001B[0m\u001B[0m\n\u001B[0m\u001B[0;32m   2154\u001B[0m         if (\n\u001B[0;32m   2155\u001B[0m             \u001B[0mastype_is_view\u001B[0m\u001B[1;33m(\u001B[0m\u001B[0mvalues\u001B[0m\u001B[1;33m.\u001B[0m\u001B[0mdtype\u001B[0m\u001B[1;33m,\u001B[0m \u001B[0marr\u001B[0m\u001B[1;33m.\u001B[0m\u001B[0mdtype\u001B[0m\u001B[1;33m)\u001B[0m\u001B[1;33m\u001B[0m\u001B[1;33m\u001B[0m\u001B[0m\n\u001B[0;32m   2156\u001B[0m             \u001B[1;32mand\u001B[0m \u001B[0musing_copy_on_write\u001B[0m\u001B[1;33m(\u001B[0m\u001B[1;33m)\u001B[0m\u001B[1;33m\u001B[0m\u001B[1;33m\u001B[0m\u001B[0m\n",
      "\u001B[1;31mValueError\u001B[0m: could not convert string to float: 'technician'"
     ]
    }
   ],
   "execution_count": 13
  },
  {
   "metadata": {},
   "cell_type": "markdown",
   "source": "#### (7) --> Check for duplicates rows",
   "id": "86336ed931ce340f"
  },
  {
   "metadata": {
    "ExecuteTime": {
     "end_time": "2024-12-22T19:52:34.846564900Z",
     "start_time": "2024-12-19T06:55:36.847129Z"
    }
   },
   "cell_type": "code",
   "source": [
    "# Check for duplicate rows\n",
    "print(f\"Duplicates: {data_frame.duplicated().sum()}\")"
   ],
   "id": "96db0042a744fd50",
   "outputs": [
    {
     "name": "stdout",
     "output_type": "stream",
     "text": [
      "Duplicates: 0\n"
     ]
    }
   ],
   "execution_count": 14
  },
  {
   "metadata": {},
   "cell_type": "markdown",
   "source": "#### (6) --> Categorical variable encoding",
   "id": "fdf5fca4943c1089"
  },
  {
   "metadata": {
    "ExecuteTime": {
     "end_time": "2024-12-22T19:52:34.846564900Z",
     "start_time": "2024-12-19T06:55:36.930321Z"
    }
   },
   "cell_type": "code",
   "source": [
    "from sklearn.preprocessing import LabelEncoder\n",
    "\n",
    "data_frame_1 = data_frame.copy()\n",
    "\n",
    "le = LabelEncoder()\n",
    "label_encoded_col = ['y', 'loan', 'housing', 'default']\n",
    "for col in label_encoded_col:\n",
    "    data_frame_1[col] = le.fit_transform(data_frame_1[col])  # 'yes' -> 1, 'no' -> 0"
   ],
   "id": "cf3fa8a5119883ff",
   "outputs": [],
   "execution_count": 15
  },
  {
   "metadata": {
    "ExecuteTime": {
     "end_time": "2024-12-22T19:52:34.846564900Z",
     "start_time": "2024-12-19T06:55:37.048085Z"
    }
   },
   "cell_type": "code",
   "source": [
    "# dummy encode categorical columns\n",
    "categorical_columns = ['job', 'marital', 'education', 'contact', 'month', 'poutcome']\n",
    "data_frame_1 = pd.get_dummies(data_frame_1, columns=categorical_columns, drop_first=False)\n",
    "\n",
    "# Convert all boolean columns to 1 and 0\n",
    "bool_columns = data_frame_1.select_dtypes(include='bool').columns\n",
    "data_frame_1[bool_columns] = data_frame_1[bool_columns].astype(int)\n",
    "\n",
    "data_frame_1.head()"
   ],
   "id": "827060ea8d97dbf8",
   "outputs": [
    {
     "data": {
      "text/plain": [
       "   age  default  balance  housing  loan  day  duration  campaign  pdays  \\\n",
       "0   58        0     2143        1     0    5       261         1     -1   \n",
       "1   44        0       29        1     0    5       151         1     -1   \n",
       "2   33        0        2        1     1    5        76         1     -1   \n",
       "3   47        0     1506        1     0    5        92         1     -1   \n",
       "4   33        0        1        0     0    5       198         1     -1   \n",
       "\n",
       "   previous  ...  month_jun  month_mar  month_may  month_nov  month_oct  \\\n",
       "0         0  ...          0          0          1          0          0   \n",
       "1         0  ...          0          0          1          0          0   \n",
       "2         0  ...          0          0          1          0          0   \n",
       "3         0  ...          0          0          1          0          0   \n",
       "4         0  ...          0          0          1          0          0   \n",
       "\n",
       "   month_sep  poutcome_failure  poutcome_other  poutcome_success  \\\n",
       "0          0                 0               0                 0   \n",
       "1          0                 0               0                 0   \n",
       "2          0                 0               0                 0   \n",
       "3          0                 0               0                 0   \n",
       "4          0                 0               0                 0   \n",
       "\n",
       "   poutcome_unknown  \n",
       "0                 1  \n",
       "1                 1  \n",
       "2                 1  \n",
       "3                 1  \n",
       "4                 1  \n",
       "\n",
       "[5 rows x 49 columns]"
      ],
      "text/html": [
       "<div>\n",
       "<style scoped>\n",
       "    .dataframe tbody tr th:only-of-type {\n",
       "        vertical-align: middle;\n",
       "    }\n",
       "\n",
       "    .dataframe tbody tr th {\n",
       "        vertical-align: top;\n",
       "    }\n",
       "\n",
       "    .dataframe thead th {\n",
       "        text-align: right;\n",
       "    }\n",
       "</style>\n",
       "<table border=\"1\" class=\"dataframe\">\n",
       "  <thead>\n",
       "    <tr style=\"text-align: right;\">\n",
       "      <th></th>\n",
       "      <th>age</th>\n",
       "      <th>default</th>\n",
       "      <th>balance</th>\n",
       "      <th>housing</th>\n",
       "      <th>loan</th>\n",
       "      <th>day</th>\n",
       "      <th>duration</th>\n",
       "      <th>campaign</th>\n",
       "      <th>pdays</th>\n",
       "      <th>previous</th>\n",
       "      <th>...</th>\n",
       "      <th>month_jun</th>\n",
       "      <th>month_mar</th>\n",
       "      <th>month_may</th>\n",
       "      <th>month_nov</th>\n",
       "      <th>month_oct</th>\n",
       "      <th>month_sep</th>\n",
       "      <th>poutcome_failure</th>\n",
       "      <th>poutcome_other</th>\n",
       "      <th>poutcome_success</th>\n",
       "      <th>poutcome_unknown</th>\n",
       "    </tr>\n",
       "  </thead>\n",
       "  <tbody>\n",
       "    <tr>\n",
       "      <th>0</th>\n",
       "      <td>58</td>\n",
       "      <td>0</td>\n",
       "      <td>2143</td>\n",
       "      <td>1</td>\n",
       "      <td>0</td>\n",
       "      <td>5</td>\n",
       "      <td>261</td>\n",
       "      <td>1</td>\n",
       "      <td>-1</td>\n",
       "      <td>0</td>\n",
       "      <td>...</td>\n",
       "      <td>0</td>\n",
       "      <td>0</td>\n",
       "      <td>1</td>\n",
       "      <td>0</td>\n",
       "      <td>0</td>\n",
       "      <td>0</td>\n",
       "      <td>0</td>\n",
       "      <td>0</td>\n",
       "      <td>0</td>\n",
       "      <td>1</td>\n",
       "    </tr>\n",
       "    <tr>\n",
       "      <th>1</th>\n",
       "      <td>44</td>\n",
       "      <td>0</td>\n",
       "      <td>29</td>\n",
       "      <td>1</td>\n",
       "      <td>0</td>\n",
       "      <td>5</td>\n",
       "      <td>151</td>\n",
       "      <td>1</td>\n",
       "      <td>-1</td>\n",
       "      <td>0</td>\n",
       "      <td>...</td>\n",
       "      <td>0</td>\n",
       "      <td>0</td>\n",
       "      <td>1</td>\n",
       "      <td>0</td>\n",
       "      <td>0</td>\n",
       "      <td>0</td>\n",
       "      <td>0</td>\n",
       "      <td>0</td>\n",
       "      <td>0</td>\n",
       "      <td>1</td>\n",
       "    </tr>\n",
       "    <tr>\n",
       "      <th>2</th>\n",
       "      <td>33</td>\n",
       "      <td>0</td>\n",
       "      <td>2</td>\n",
       "      <td>1</td>\n",
       "      <td>1</td>\n",
       "      <td>5</td>\n",
       "      <td>76</td>\n",
       "      <td>1</td>\n",
       "      <td>-1</td>\n",
       "      <td>0</td>\n",
       "      <td>...</td>\n",
       "      <td>0</td>\n",
       "      <td>0</td>\n",
       "      <td>1</td>\n",
       "      <td>0</td>\n",
       "      <td>0</td>\n",
       "      <td>0</td>\n",
       "      <td>0</td>\n",
       "      <td>0</td>\n",
       "      <td>0</td>\n",
       "      <td>1</td>\n",
       "    </tr>\n",
       "    <tr>\n",
       "      <th>3</th>\n",
       "      <td>47</td>\n",
       "      <td>0</td>\n",
       "      <td>1506</td>\n",
       "      <td>1</td>\n",
       "      <td>0</td>\n",
       "      <td>5</td>\n",
       "      <td>92</td>\n",
       "      <td>1</td>\n",
       "      <td>-1</td>\n",
       "      <td>0</td>\n",
       "      <td>...</td>\n",
       "      <td>0</td>\n",
       "      <td>0</td>\n",
       "      <td>1</td>\n",
       "      <td>0</td>\n",
       "      <td>0</td>\n",
       "      <td>0</td>\n",
       "      <td>0</td>\n",
       "      <td>0</td>\n",
       "      <td>0</td>\n",
       "      <td>1</td>\n",
       "    </tr>\n",
       "    <tr>\n",
       "      <th>4</th>\n",
       "      <td>33</td>\n",
       "      <td>0</td>\n",
       "      <td>1</td>\n",
       "      <td>0</td>\n",
       "      <td>0</td>\n",
       "      <td>5</td>\n",
       "      <td>198</td>\n",
       "      <td>1</td>\n",
       "      <td>-1</td>\n",
       "      <td>0</td>\n",
       "      <td>...</td>\n",
       "      <td>0</td>\n",
       "      <td>0</td>\n",
       "      <td>1</td>\n",
       "      <td>0</td>\n",
       "      <td>0</td>\n",
       "      <td>0</td>\n",
       "      <td>0</td>\n",
       "      <td>0</td>\n",
       "      <td>0</td>\n",
       "      <td>1</td>\n",
       "    </tr>\n",
       "  </tbody>\n",
       "</table>\n",
       "<p>5 rows × 49 columns</p>\n",
       "</div>"
      ]
     },
     "execution_count": 16,
     "metadata": {},
     "output_type": "execute_result"
    }
   ],
   "execution_count": 16
  },
  {
   "metadata": {},
   "cell_type": "markdown",
   "source": "#### (6) --> Check for outliers",
   "id": "9e0a7fa90f9e60d0"
  },
  {
   "metadata": {
    "ExecuteTime": {
     "end_time": "2024-12-22T19:52:34.846564900Z",
     "start_time": "2024-12-19T06:55:37.149399Z"
    }
   },
   "cell_type": "code",
   "source": [
    "#boxplot on numerical features to find outliers\n",
    "plt.figure(figsize=(20,60), facecolor='white')\n",
    "plotnumber =1\n",
    "for numerical_feature in data_frame.select_dtypes(include='int64').columns:\n",
    "    ax = plt.subplot(12,3,plotnumber)\n",
    "    sns.boxplot(data_frame[numerical_feature])\n",
    "    plt.xlabel(numerical_feature)\n",
    "    plotnumber+=1\n",
    "plt.show()"
   ],
   "id": "ce1323f9adbce0e",
   "outputs": [
    {
     "data": {
      "text/plain": [
       "<Figure size 2000x6000 with 7 Axes>"
      ],
      "image/png": "[encoded data removed]"
     },
     "metadata": {},
     "output_type": "display_data"
    }
   ],
   "execution_count": 17
  },
  {
   "metadata": {
    "ExecuteTime": {
     "end_time": "2024-12-22T19:52:34.846564900Z",
     "start_time": "2024-12-19T06:55:38.011530Z"
    }
   },
   "cell_type": "code",
   "source": [
    "numerical_columns = ['age', 'balance', 'day', 'duration', 'campaign', 'pdays', 'previous']\n",
    "\n",
    "# Boxplot for each numerical column\n",
    "plt.figure(figsize=(15, 10))\n",
    "for i, col in enumerate(numerical_columns, 1):\n",
    "    plt.subplot(3, 3, i)\n",
    "    sns.boxplot(x=data_frame_1[col])\n",
    "    plt.title(f\"Boxplot for {col}\")\n",
    "plt.tight_layout()\n",
    "plt.show()\n"
   ],
   "id": "378c4ee014a5b172",
   "outputs": [
    {
     "data": {
      "text/plain": [
       "<Figure size 1500x1000 with 7 Axes>"
      ],
      "image/png": "[encoded data removed]"
     },
     "metadata": {},
     "output_type": "display_data"
    }
   ],
   "execution_count": 18
  },
  {
   "metadata": {
    "ExecuteTime": {
     "end_time": "2024-12-22T19:52:34.846564900Z",
     "start_time": "2024-12-22T19:52:28.203733Z"
    }
   },
   "cell_type": "code",
   "source": [
    "import matplotlib.pyplot as plt\n",
    "import seaborn as sns\n",
    "\n",
    "# Winsorization function\n",
    "def winsorize_column(column, lower_percentile=1, upper_percentile=99):\n",
    "    lower_cutoff = np.percentile(column, lower_percentile)\n",
    "    upper_cutoff = np.percentile(column, upper_percentile)\n",
    "    return np.clip(column, lower_cutoff, upper_cutoff)\n",
    "\n",
    "# Apply Winsorization to the dataset\n",
    "df_winsorized = data_frame_1.copy()\n",
    "for col in df.columns:\n",
    "    df_winsorized[col] = winsorize_column(df[col])\n",
    "\n",
    "# Plot box plots for each column in original and Winsorized DataFrames\n",
    "fig, axes = plt.subplots(len(df.columns), 2, figsize=(12, 6 * len(df.columns)))\n",
    "\n",
    "for i, col in enumerate(df.columns):\n",
    "    # Original data box plot\n",
    "    sns.boxplot(data=df, x=col, ax=axes[i, 0], color=\"skyblue\")\n",
    "    axes[i, 0].set_title(f\"Original Boxplot for {col}\")\n",
    "    \n",
    "    # Winsorized data box plot\n",
    "    sns.boxplot(data=df_winsorized, x=col, ax=axes[i, 1], color=\"lightgreen\")\n",
    "    axes[i, 1].set_title(f\"Winsorized Boxplot for {col}\")\n",
    "\n",
    "# Adjust layout\n",
    "plt.tight_layout()\n",
    "plt.show()\n"
   ],
   "id": "688b1e25d594b520",
   "outputs": [
    {
     "ename": "NameError",
     "evalue": "name 'data_frame_1' is not defined",
     "output_type": "error",
     "traceback": [
      "\u001B[1;31m---------------------------------------------------------------------------\u001B[0m",
      "\u001B[1;31mNameError\u001B[0m                                 Traceback (most recent call last)",
      "Cell \u001B[1;32mIn[1], line 11\u001B[0m\n\u001B[0;32m      8\u001B[0m     \u001B[38;5;28;01mreturn\u001B[39;00m np\u001B[38;5;241m.\u001B[39mclip(column, lower_cutoff, upper_cutoff)\n\u001B[0;32m     10\u001B[0m \u001B[38;5;66;03m# Apply Winsorization to the dataset\u001B[39;00m\n\u001B[1;32m---> 11\u001B[0m df_winsorized \u001B[38;5;241m=\u001B[39m \u001B[43mdata_frame_1\u001B[49m\u001B[38;5;241m.\u001B[39mcopy()\n\u001B[0;32m     12\u001B[0m \u001B[38;5;28;01mfor\u001B[39;00m col \u001B[38;5;129;01min\u001B[39;00m df\u001B[38;5;241m.\u001B[39mcolumns:\n\u001B[0;32m     13\u001B[0m     df_winsorized[col] \u001B[38;5;241m=\u001B[39m winsorize_column(df[col])\n",
      "\u001B[1;31mNameError\u001B[0m: name 'data_frame_1' is not defined"
     ]
    }
   ],
   "execution_count": 1
  },
  {
   "metadata": {
    "ExecuteTime": {
     "end_time": "2024-12-22T19:52:34.846564900Z",
     "start_time": "2024-12-19T06:55:38.767565Z"
    }
   },
   "cell_type": "code",
   "source": [
    "def detect_outliers_iqr(df, column):\n",
    "    Q1 = df[column].quantile(0.25)  # First quartile\n",
    "    Q3 = df[column].quantile(0.75)  # Third quartile\n",
    "    IQR = Q3 - Q1                   # Interquartile range\n",
    "    \n",
    "    lower_bound = Q1 - 1.5 * IQR\n",
    "    upper_bound = Q3 + 1.5 * IQR\n",
    "    \n",
    "    outliers = df[(df[column] < lower_bound) | (df[column] > upper_bound)]\n",
    "    print(f\"{column}:\")\n",
    "    print(f\"  Q1: {Q1}, Q3: {Q3}, IQR: {IQR}\")\n",
    "    print(f\"  Lower Bound: {lower_bound}, Upper Bound: {upper_bound}\")\n",
    "    print(f\"  Number of Outliers: {len(outliers)}\\n\")\n",
    "    \n",
    "    return lower_bound, upper_bound, outliers\n",
    "\n",
    "\n"
   ],
   "id": "9075961c08c17999",
   "outputs": [],
   "execution_count": 19
  },
  {
   "metadata": {
    "ExecuteTime": {
     "end_time": "2024-12-22T19:52:34.846564900Z",
     "start_time": "2024-12-19T06:55:38.840230Z"
    }
   },
   "cell_type": "code",
   "source": [
    "# Apply the function to each numerical column\n",
    "for col in numerical_columns:\n",
    "    detect_outliers_iqr(data_frame_1, col)"
   ],
   "id": "37d003043e5a3668",
   "outputs": [
    {
     "name": "stdout",
     "output_type": "stream",
     "text": [
      "age:\n",
      "  Q1: 33.0, Q3: 48.0, IQR: 15.0\n",
      "  Lower Bound: 10.5, Upper Bound: 70.5\n",
      "  Number of Outliers: 487\n",
      "\n",
      "balance:\n",
      "  Q1: 72.0, Q3: 1428.0, IQR: 1356.0\n",
      "  Lower Bound: -1962.0, Upper Bound: 3462.0\n",
      "  Number of Outliers: 4729\n",
      "\n",
      "day:\n",
      "  Q1: 8.0, Q3: 21.0, IQR: 13.0\n",
      "  Lower Bound: -11.5, Upper Bound: 40.5\n",
      "  Number of Outliers: 0\n",
      "\n",
      "duration:\n",
      "  Q1: 103.0, Q3: 319.0, IQR: 216.0\n",
      "  Lower Bound: -221.0, Upper Bound: 643.0\n",
      "  Number of Outliers: 3235\n",
      "\n",
      "campaign:\n",
      "  Q1: 1.0, Q3: 3.0, IQR: 2.0\n",
      "  Lower Bound: -2.0, Upper Bound: 6.0\n",
      "  Number of Outliers: 3064\n",
      "\n",
      "pdays:\n",
      "  Q1: -1.0, Q3: -1.0, IQR: 0.0\n",
      "  Lower Bound: -1.0, Upper Bound: -1.0\n",
      "  Number of Outliers: 8257\n",
      "\n",
      "previous:\n",
      "  Q1: 0.0, Q3: 0.0, IQR: 0.0\n",
      "  Lower Bound: 0.0, Upper Bound: 0.0\n",
      "  Number of Outliers: 8257\n",
      "\n"
     ]
    }
   ],
   "execution_count": 20
  },
  {
   "metadata": {
    "ExecuteTime": {
     "end_time": "2024-12-22T19:52:34.846564900Z",
     "start_time": "2024-12-19T06:55:38.928335Z"
    }
   },
   "cell_type": "code",
   "source": [
    "def cap_outliers(data_frame_1, column):\n",
    "    Q1 = data_frame_1[column].quantile(0.25)  # First quartile\n",
    "    Q3 = data_frame_1[column].quantile(0.75)  # Third quartile\n",
    "    IQR = Q3 - Q1                   # Interquartile range\n",
    "    \n",
    "    lower_bound = Q1 - 1.5 * IQR\n",
    "    upper_bound = Q3 + 1.5 * IQR\n",
    "    \n",
    "    # Cap the values\n",
    "    data_frame_1[column] = np.where(data_frame_1[column] < lower_bound, lower_bound, data_frame_1[column])\n",
    "    data_frame_1[column] = np.where(data_frame_1[column] > upper_bound, upper_bound, data_frame_1[column])\n",
    "\n",
    "# Cap outliers only for selected numerical columns where it makes sense\n",
    "columns_to_cap = [ 'pdays'] \n",
    "\n",
    "for col in columns_to_cap:\n",
    "    cap_outliers(data_frame_1, col)\n",
    "    print(f\"Outliers in {col} have been capped.\")\n"
   ],
   "id": "f1115d691340b92a",
   "outputs": [
    {
     "name": "stdout",
     "output_type": "stream",
     "text": [
      "Outliers in pdays have been capped.\n"
     ]
    }
   ],
   "execution_count": 21
  },
  {
   "metadata": {
    "ExecuteTime": {
     "end_time": "2024-12-22T19:52:34.846564900Z",
     "start_time": "2024-12-19T06:55:38.996491Z"
    }
   },
   "cell_type": "code",
   "source": [
    "# Boxplot after capping\n",
    "plt.figure(figsize=(15, 10))\n",
    "for i, col in enumerate(numerical_columns, 1):\n",
    "    plt.subplot(3, 3, i)\n",
    "    sns.boxplot(x=data_frame_1[col])\n",
    "    plt.title(f\"Boxplot for {col} After Capping\")\n",
    "plt.tight_layout()\n",
    "plt.show()\n"
   ],
   "id": "3629a2ac69e7199d",
   "outputs": [
    {
     "data": {
      "text/plain": [
       "<Figure size 1500x1000 with 7 Axes>"
      ],
      "image/png": "[encoded data removed]"
     },
     "metadata": {},
     "output_type": "display_data"
    }
   ],
   "execution_count": 22
  },
  {
   "metadata": {
    "ExecuteTime": {
     "end_time": "2024-12-22T19:52:34.846564900Z",
     "start_time": "2024-12-19T06:55:39.756070Z"
    }
   },
   "cell_type": "code",
   "source": "print(data_frame_1)",
   "id": "ebfa9cabccfea741",
   "outputs": [
    {
     "name": "stdout",
     "output_type": "stream",
     "text": [
      "       age  default  balance  housing  loan  day  duration  campaign  pdays  \\\n",
      "0       58        0     2143        1     0    5       261         1   -1.0   \n",
      "1       44        0       29        1     0    5       151         1   -1.0   \n",
      "2       33        0        2        1     1    5        76         1   -1.0   \n",
      "3       47        0     1506        1     0    5        92         1   -1.0   \n",
      "4       33        0        1        0     0    5       198         1   -1.0   \n",
      "...    ...      ...      ...      ...   ...  ...       ...       ...    ...   \n",
      "45206   51        0      825        0     0   17       977         3   -1.0   \n",
      "45207   71        0     1729        0     0   17       456         2   -1.0   \n",
      "45208   72        0     5715        0     0   17      1127         5   -1.0   \n",
      "45209   57        0      668        0     0   17       508         4   -1.0   \n",
      "45210   37        0     2971        0     0   17       361         2   -1.0   \n",
      "\n",
      "       previous  ...  month_jun  month_mar  month_may  month_nov  month_oct  \\\n",
      "0             0  ...          0          0          1          0          0   \n",
      "1             0  ...          0          0          1          0          0   \n",
      "2             0  ...          0          0          1          0          0   \n",
      "3             0  ...          0          0          1          0          0   \n",
      "4             0  ...          0          0          1          0          0   \n",
      "...         ...  ...        ...        ...        ...        ...        ...   \n",
      "45206         0  ...          0          0          0          1          0   \n",
      "45207         0  ...          0          0          0          1          0   \n",
      "45208         3  ...          0          0          0          1          0   \n",
      "45209         0  ...          0          0          0          1          0   \n",
      "45210        11  ...          0          0          0          1          0   \n",
      "\n",
      "       month_sep  poutcome_failure  poutcome_other  poutcome_success  \\\n",
      "0              0                 0               0                 0   \n",
      "1              0                 0               0                 0   \n",
      "2              0                 0               0                 0   \n",
      "3              0                 0               0                 0   \n",
      "4              0                 0               0                 0   \n",
      "...          ...               ...             ...               ...   \n",
      "45206          0                 0               0                 0   \n",
      "45207          0                 0               0                 0   \n",
      "45208          0                 0               0                 1   \n",
      "45209          0                 0               0                 0   \n",
      "45210          0                 0               1                 0   \n",
      "\n",
      "       poutcome_unknown  \n",
      "0                     1  \n",
      "1                     1  \n",
      "2                     1  \n",
      "3                     1  \n",
      "4                     1  \n",
      "...                 ...  \n",
      "45206                 1  \n",
      "45207                 1  \n",
      "45208                 0  \n",
      "45209                 1  \n",
      "45210                 0  \n",
      "\n",
      "[45211 rows x 49 columns]\n"
     ]
    }
   ],
   "execution_count": 23
  },
  {
   "metadata": {
    "ExecuteTime": {
     "end_time": "2024-12-22T19:52:34.846564900Z",
     "start_time": "2024-12-19T06:55:39.915405Z"
    }
   },
   "cell_type": "code",
   "source": [
    "# pdays column has a value of -1 only after capping\n",
    "data_frame_1.groupby(['y','pdays']).size()"
   ],
   "id": "bbc062262ff2d0c3",
   "outputs": [
    {
     "data": {
      "text/plain": [
       "y  pdays\n",
       "0  -1.0     39922\n",
       "1  -1.0      5289\n",
       "dtype: int64"
      ]
     },
     "execution_count": 24,
     "metadata": {},
     "output_type": "execute_result"
    }
   ],
   "execution_count": 24
  },
  {
   "metadata": {
    "ExecuteTime": {
     "end_time": "2024-12-22T19:52:34.846564900Z",
     "start_time": "2024-12-19T06:55:40.011156Z"
    }
   },
   "cell_type": "code",
   "source": [
    "# Before capping\n",
    "data_frame.groupby(['y','pdays']).size()\n",
    "# Get all number of rows\n",
    "data_frame.shape[0]\n",
    "\n",
    "# Get number of rows where pdays = -1\n",
    "data_frame[data_frame['pdays'] == -1].shape[0]\n",
    "\n",
    "# Get number of rows where pdays = -1 as a percentage of total rows\n",
    "data_frame[data_frame['pdays'] == -1].shape[0] / data_frame.shape[0] * 100"
   ],
   "id": "44e7b9a9c2c3b578",
   "outputs": [
    {
     "data": {
      "text/plain": [
       "81.73674548229414"
      ]
     },
     "execution_count": 25,
     "metadata": {},
     "output_type": "execute_result"
    }
   ],
   "execution_count": 25
  },
  {
   "metadata": {},
   "cell_type": "markdown",
   "source": "#### previous column",
   "id": "c57035f89964663f"
  },
  {
   "metadata": {
    "ExecuteTime": {
     "end_time": "2024-12-22T19:52:34.846564900Z",
     "start_time": "2024-12-19T06:55:40.097171Z"
    }
   },
   "cell_type": "code",
   "source": [
    "# Drop the 'pdays' column\n",
    "data_frame_1.drop('pdays', axis=1, inplace=True)"
   ],
   "id": "e1d6573b3bf8e5b7",
   "outputs": [],
   "execution_count": 26
  },
  {
   "metadata": {},
   "cell_type": "code",
   "outputs": [],
   "execution_count": null,
   "source": "",
   "id": "6927daec50fdde95"
  },
  {
   "metadata": {
    "ExecuteTime": {
     "end_time": "2024-12-22T19:52:34.846564900Z",
     "start_time": "2024-12-19T06:55:40.160317Z"
    }
   },
   "cell_type": "code",
   "source": [
    "# remove outliers in feature previous...\n",
    "data_frame_1.groupby(['y','previous'],sort=True)['previous'].count()"
   ],
   "id": "307aaeac784f4840",
   "outputs": [
    {
     "data": {
      "text/plain": [
       "y  previous\n",
       "0  0           33570\n",
       "   1            2189\n",
       "   2            1650\n",
       "   3             848\n",
       "   4             543\n",
       "               ...  \n",
       "1  26              1\n",
       "   29              1\n",
       "   30              1\n",
       "   55              1\n",
       "   58              1\n",
       "Name: previous, Length: 66, dtype: int64"
      ]
     },
     "execution_count": 27,
     "metadata": {},
     "output_type": "execute_result"
    }
   ],
   "execution_count": 27
  },
  {
   "metadata": {
    "ExecuteTime": {
     "end_time": "2024-12-22T19:52:34.846564900Z",
     "start_time": "2024-12-19T06:55:40.275230Z"
    }
   },
   "cell_type": "code",
   "source": "data_frame_2 = data_frame_1[data_frame_1['previous'] < 20]",
   "id": "fd318fc23d50f79",
   "outputs": [],
   "execution_count": 28
  },
  {
   "metadata": {},
   "cell_type": "markdown",
   "source": "##### balance column",
   "id": "1cfa925ac7626a15"
  },
  {
   "metadata": {
    "ExecuteTime": {
     "end_time": "2024-12-22T19:52:34.846564900Z",
     "start_time": "2024-12-19T06:55:40.346590Z"
    }
   },
   "cell_type": "code",
   "source": [
    "# remove outliers in feature previous...\n",
    "data_frame_2.groupby(['y','balance'],sort=True)['balance'].count()"
   ],
   "id": "2627a5b7ffbca343",
   "outputs": [
    {
     "data": {
      "text/plain": [
       "y  balance\n",
       "0  -8019      1\n",
       "   -6847      1\n",
       "   -4057      1\n",
       "   -3372      1\n",
       "   -3313      1\n",
       "             ..\n",
       "1   34646     1\n",
       "    36252     1\n",
       "    45248     1\n",
       "    52587     2\n",
       "    81204     2\n",
       "Name: balance, Length: 9253, dtype: int64"
      ]
     },
     "execution_count": 29,
     "metadata": {},
     "output_type": "execute_result"
    }
   ],
   "execution_count": 29
  },
  {
   "metadata": {
    "ExecuteTime": {
     "end_time": "2024-12-22T19:52:34.846564900Z",
     "start_time": "2024-12-19T06:55:40.444681Z"
    }
   },
   "cell_type": "code",
   "source": "data_frame_2 = data_frame_2[data_frame_2['balance'] < 40000]",
   "id": "7b084b249691ec86",
   "outputs": [],
   "execution_count": 30
  },
  {
   "metadata": {},
   "cell_type": "markdown",
   "source": "##### duration column",
   "id": "4d64145d8dee2955"
  },
  {
   "metadata": {
    "ExecuteTime": {
     "end_time": "2024-12-22T19:52:34.846564900Z",
     "start_time": "2024-12-19T06:55:40.547913Z"
    }
   },
   "cell_type": "code",
   "source": [
    "# remove outliers in feature previous...\n",
    "data_frame_2.groupby(['y','duration'],sort=True)['duration'].count()"
   ],
   "id": "2f2456c41cac77c4",
   "outputs": [
    {
     "data": {
      "text/plain": [
       "y  duration\n",
       "0  0            3\n",
       "   1            2\n",
       "   2            3\n",
       "   3            4\n",
       "   4           15\n",
       "               ..\n",
       "1  3094         1\n",
       "   3102         1\n",
       "   3183         1\n",
       "   3253         1\n",
       "   3881         1\n",
       "Name: duration, Length: 2625, dtype: int64"
      ]
     },
     "execution_count": 31,
     "metadata": {},
     "output_type": "execute_result"
    }
   ],
   "execution_count": 31
  },
  {
   "metadata": {
    "ExecuteTime": {
     "end_time": "2024-12-22T19:52:34.862890800Z",
     "start_time": "2024-12-19T06:55:40.652404Z"
    }
   },
   "cell_type": "code",
   "source": "data_frame_2 = data_frame_2[data_frame_2['duration'] < 2000]",
   "id": "beff280dc98f4be8",
   "outputs": [],
   "execution_count": 32
  },
  {
   "metadata": {},
   "cell_type": "markdown",
   "source": "##### campaign column",
   "id": "41fbf8e5c85994ae"
  },
  {
   "metadata": {
    "ExecuteTime": {
     "end_time": "2024-12-22T19:52:34.862890800Z",
     "start_time": "2024-12-19T06:55:40.721638Z"
    }
   },
   "cell_type": "code",
   "source": [
    "# remove outliers in feature previous...\n",
    "data_frame_2.groupby(['y','campaign'],sort=True)['campaign'].count()"
   ],
   "id": "ae07b9ad6968e6a6",
   "outputs": [
    {
     "data": {
      "text/plain": [
       "y  campaign\n",
       "0  1           14951\n",
       "   2           11074\n",
       "   3            4892\n",
       "   4            3194\n",
       "   5            1620\n",
       "               ...  \n",
       "1  20              1\n",
       "   21              1\n",
       "   24              1\n",
       "   29              1\n",
       "   32              1\n",
       "Name: campaign, Length: 70, dtype: int64"
      ]
     },
     "execution_count": 33,
     "metadata": {},
     "output_type": "execute_result"
    }
   ],
   "execution_count": 33
  },
  {
   "metadata": {
    "ExecuteTime": {
     "end_time": "2024-12-22T19:52:34.862890800Z",
     "start_time": "2024-12-19T06:55:40.876949Z"
    }
   },
   "cell_type": "code",
   "source": "data_frame_2 = data_frame_2[data_frame_2['campaign'] < 35]",
   "id": "6e48cc7fb66185f0",
   "outputs": [],
   "execution_count": 34
  },
  {
   "metadata": {
    "ExecuteTime": {
     "end_time": "2024-12-22T19:52:34.862890800Z",
     "start_time": "2024-12-19T06:55:40.949446Z"
    }
   },
   "cell_type": "code",
   "source": [
    "new_numerical_columns = ['age', 'balance', 'day', 'duration', 'campaign', 'previous']\n",
    "# Boxplot after capping\n",
    "plt.figure(figsize=(15, 10))\n",
    "for i, col in enumerate(new_numerical_columns, 1):\n",
    "    plt.subplot(3, 3, i)\n",
    "    sns.boxplot(x=data_frame_2[col])\n",
    "    plt.title(f\"Boxplot for {col} After Capping\")\n",
    "plt.tight_layout()\n",
    "plt.show()\n"
   ],
   "id": "3c51b9ef882a08d1",
   "outputs": [
    {
     "data": {
      "text/plain": [
       "<Figure size 1500x1000 with 6 Axes>"
      ],
      "image/png": "[encoded data removed]"
     },
     "metadata": {},
     "output_type": "display_data"
    }
   ],
   "execution_count": 35
  },
  {
   "metadata": {
    "ExecuteTime": {
     "end_time": "2024-12-22T19:52:34.862890800Z",
     "start_time": "2024-12-19T07:09:05.918257Z"
    }
   },
   "cell_type": "code",
   "source": [
    "# Get first 1000 rows\n",
    "data_frame_2.head(1000)"
   ],
   "id": "f3e6b1ff431c2fe7",
   "outputs": [
    {
     "data": {
      "text/plain": [
       "      age  default  balance  housing  loan  day  duration  campaign  previous  \\\n",
       "0      58        0     2143        1     0    5       261         1         0   \n",
       "1      44        0       29        1     0    5       151         1         0   \n",
       "2      33        0        2        1     1    5        76         1         0   \n",
       "3      47        0     1506        1     0    5        92         1         0   \n",
       "4      33        0        1        0     0    5       198         1         0   \n",
       "...   ...      ...      ...      ...   ...  ...       ...       ...       ...   \n",
       "998    49        0     1377        1     0    7      1101         1         0   \n",
       "999    33        0       56        0     0    7       236         2         0   \n",
       "1000   47        0        0        1     0    7       164         1         0   \n",
       "1001   50        0       73        0     0    7        93         1         0   \n",
       "1002   30        0      660        1     0    7       912         2         0   \n",
       "\n",
       "      y  ...  month_jun  month_mar  month_may  month_nov  month_oct  \\\n",
       "0     0  ...          0          0          1          0          0   \n",
       "1     0  ...          0          0          1          0          0   \n",
       "2     0  ...          0          0          1          0          0   \n",
       "3     0  ...          0          0          1          0          0   \n",
       "4     0  ...          0          0          1          0          0   \n",
       "...  ..  ...        ...        ...        ...        ...        ...   \n",
       "998   0  ...          0          0          1          0          0   \n",
       "999   0  ...          0          0          1          0          0   \n",
       "1000  0  ...          0          0          1          0          0   \n",
       "1001  0  ...          0          0          1          0          0   \n",
       "1002  0  ...          0          0          1          0          0   \n",
       "\n",
       "      month_sep  poutcome_failure  poutcome_other  poutcome_success  \\\n",
       "0             0                 0               0                 0   \n",
       "1             0                 0               0                 0   \n",
       "2             0                 0               0                 0   \n",
       "3             0                 0               0                 0   \n",
       "4             0                 0               0                 0   \n",
       "...         ...               ...             ...               ...   \n",
       "998           0                 0               0                 0   \n",
       "999           0                 0               0                 0   \n",
       "1000          0                 0               0                 0   \n",
       "1001          0                 0               0                 0   \n",
       "1002          0                 0               0                 0   \n",
       "\n",
       "      poutcome_unknown  \n",
       "0                    1  \n",
       "1                    1  \n",
       "2                    1  \n",
       "3                    1  \n",
       "4                    1  \n",
       "...                ...  \n",
       "998                  1  \n",
       "999                  1  \n",
       "1000                 1  \n",
       "1001                 1  \n",
       "1002                 1  \n",
       "\n",
       "[1000 rows x 48 columns]"
      ],
      "text/html": [
       "<div>\n",
       "<style scoped>\n",
       "    .dataframe tbody tr th:only-of-type {\n",
       "        vertical-align: middle;\n",
       "    }\n",
       "\n",
       "    .dataframe tbody tr th {\n",
       "        vertical-align: top;\n",
       "    }\n",
       "\n",
       "    .dataframe thead th {\n",
       "        text-align: right;\n",
       "    }\n",
       "</style>\n",
       "<table border=\"1\" class=\"dataframe\">\n",
       "  <thead>\n",
       "    <tr style=\"text-align: right;\">\n",
       "      <th></th>\n",
       "      <th>age</th>\n",
       "      <th>default</th>\n",
       "      <th>balance</th>\n",
       "      <th>housing</th>\n",
       "      <th>loan</th>\n",
       "      <th>day</th>\n",
       "      <th>duration</th>\n",
       "      <th>campaign</th>\n",
       "      <th>previous</th>\n",
       "      <th>y</th>\n",
       "      <th>...</th>\n",
       "      <th>month_jun</th>\n",
       "      <th>month_mar</th>\n",
       "      <th>month_may</th>\n",
       "      <th>month_nov</th>\n",
       "      <th>month_oct</th>\n",
       "      <th>month_sep</th>\n",
       "      <th>poutcome_failure</th>\n",
       "      <th>poutcome_other</th>\n",
       "      <th>poutcome_success</th>\n",
       "      <th>poutcome_unknown</th>\n",
       "    </tr>\n",
       "  </thead>\n",
       "  <tbody>\n",
       "    <tr>\n",
       "      <th>0</th>\n",
       "      <td>58</td>\n",
       "      <td>0</td>\n",
       "      <td>2143</td>\n",
       "      <td>1</td>\n",
       "      <td>0</td>\n",
       "      <td>5</td>\n",
       "      <td>261</td>\n",
       "      <td>1</td>\n",
       "      <td>0</td>\n",
       "      <td>0</td>\n",
       "      <td>...</td>\n",
       "      <td>0</td>\n",
       "      <td>0</td>\n",
       "      <td>1</td>\n",
       "      <td>0</td>\n",
       "      <td>0</td>\n",
       "      <td>0</td>\n",
       "      <td>0</td>\n",
       "      <td>0</td>\n",
       "      <td>0</td>\n",
       "      <td>1</td>\n",
       "    </tr>\n",
       "    <tr>\n",
       "      <th>1</th>\n",
       "      <td>44</td>\n",
       "      <td>0</td>\n",
       "      <td>29</td>\n",
       "      <td>1</td>\n",
       "      <td>0</td>\n",
       "      <td>5</td>\n",
       "      <td>151</td>\n",
       "      <td>1</td>\n",
       "      <td>0</td>\n",
       "      <td>0</td>\n",
       "      <td>...</td>\n",
       "      <td>0</td>\n",
       "      <td>0</td>\n",
       "      <td>1</td>\n",
       "      <td>0</td>\n",
       "      <td>0</td>\n",
       "      <td>0</td>\n",
       "      <td>0</td>\n",
       "      <td>0</td>\n",
       "      <td>0</td>\n",
       "      <td>1</td>\n",
       "    </tr>\n",
       "    <tr>\n",
       "      <th>2</th>\n",
       "      <td>33</td>\n",
       "      <td>0</td>\n",
       "      <td>2</td>\n",
       "      <td>1</td>\n",
       "      <td>1</td>\n",
       "      <td>5</td>\n",
       "      <td>76</td>\n",
       "      <td>1</td>\n",
       "      <td>0</td>\n",
       "      <td>0</td>\n",
       "      <td>...</td>\n",
       "      <td>0</td>\n",
       "      <td>0</td>\n",
       "      <td>1</td>\n",
       "      <td>0</td>\n",
       "      <td>0</td>\n",
       "      <td>0</td>\n",
       "      <td>0</td>\n",
       "      <td>0</td>\n",
       "      <td>0</td>\n",
       "      <td>1</td>\n",
       "    </tr>\n",
       "    <tr>\n",
       "      <th>3</th>\n",
       "      <td>47</td>\n",
       "      <td>0</td>\n",
       "      <td>1506</td>\n",
       "      <td>1</td>\n",
       "      <td>0</td>\n",
       "      <td>5</td>\n",
       "      <td>92</td>\n",
       "      <td>1</td>\n",
       "      <td>0</td>\n",
       "      <td>0</td>\n",
       "      <td>...</td>\n",
       "      <td>0</td>\n",
       "      <td>0</td>\n",
       "      <td>1</td>\n",
       "      <td>0</td>\n",
       "      <td>0</td>\n",
       "      <td>0</td>\n",
       "      <td>0</td>\n",
       "      <td>0</td>\n",
       "      <td>0</td>\n",
       "      <td>1</td>\n",
       "    </tr>\n",
       "    <tr>\n",
       "      <th>4</th>\n",
       "      <td>33</td>\n",
       "      <td>0</td>\n",
       "      <td>1</td>\n",
       "      <td>0</td>\n",
       "      <td>0</td>\n",
       "      <td>5</td>\n",
       "      <td>198</td>\n",
       "      <td>1</td>\n",
       "      <td>0</td>\n",
       "      <td>0</td>\n",
       "      <td>...</td>\n",
       "      <td>0</td>\n",
       "      <td>0</td>\n",
       "      <td>1</td>\n",
       "      <td>0</td>\n",
       "      <td>0</td>\n",
       "      <td>0</td>\n",
       "      <td>0</td>\n",
       "      <td>0</td>\n",
       "      <td>0</td>\n",
       "      <td>1</td>\n",
       "    </tr>\n",
       "    <tr>\n",
       "      <th>...</th>\n",
       "      <td>...</td>\n",
       "      <td>...</td>\n",
       "      <td>...</td>\n",
       "      <td>...</td>\n",
       "      <td>...</td>\n",
       "      <td>...</td>\n",
       "      <td>...</td>\n",
       "      <td>...</td>\n",
       "      <td>...</td>\n",
       "      <td>...</td>\n",
       "      <td>...</td>\n",
       "      <td>...</td>\n",
       "      <td>...</td>\n",
       "      <td>...</td>\n",
       "      <td>...</td>\n",
       "      <td>...</td>\n",
       "      <td>...</td>\n",
       "      <td>...</td>\n",
       "      <td>...</td>\n",
       "      <td>...</td>\n",
       "      <td>...</td>\n",
       "    </tr>\n",
       "    <tr>\n",
       "      <th>998</th>\n",
       "      <td>49</td>\n",
       "      <td>0</td>\n",
       "      <td>1377</td>\n",
       "      <td>1</td>\n",
       "      <td>0</td>\n",
       "      <td>7</td>\n",
       "      <td>1101</td>\n",
       "      <td>1</td>\n",
       "      <td>0</td>\n",
       "      <td>0</td>\n",
       "      <td>...</td>\n",
       "      <td>0</td>\n",
       "      <td>0</td>\n",
       "      <td>1</td>\n",
       "      <td>0</td>\n",
       "      <td>0</td>\n",
       "      <td>0</td>\n",
       "      <td>0</td>\n",
       "      <td>0</td>\n",
       "      <td>0</td>\n",
       "      <td>1</td>\n",
       "    </tr>\n",
       "    <tr>\n",
       "      <th>999</th>\n",
       "      <td>33</td>\n",
       "      <td>0</td>\n",
       "      <td>56</td>\n",
       "      <td>0</td>\n",
       "      <td>0</td>\n",
       "      <td>7</td>\n",
       "      <td>236</td>\n",
       "      <td>2</td>\n",
       "      <td>0</td>\n",
       "      <td>0</td>\n",
       "      <td>...</td>\n",
       "      <td>0</td>\n",
       "      <td>0</td>\n",
       "      <td>1</td>\n",
       "      <td>0</td>\n",
       "      <td>0</td>\n",
       "      <td>0</td>\n",
       "      <td>0</td>\n",
       "      <td>0</td>\n",
       "      <td>0</td>\n",
       "      <td>1</td>\n",
       "    </tr>\n",
       "    <tr>\n",
       "      <th>1000</th>\n",
       "      <td>47</td>\n",
       "      <td>0</td>\n",
       "      <td>0</td>\n",
       "      <td>1</td>\n",
       "      <td>0</td>\n",
       "      <td>7</td>\n",
       "      <td>164</td>\n",
       "      <td>1</td>\n",
       "      <td>0</td>\n",
       "      <td>0</td>\n",
       "      <td>...</td>\n",
       "      <td>0</td>\n",
       "      <td>0</td>\n",
       "      <td>1</td>\n",
       "      <td>0</td>\n",
       "      <td>0</td>\n",
       "      <td>0</td>\n",
       "      <td>0</td>\n",
       "      <td>0</td>\n",
       "      <td>0</td>\n",
       "      <td>1</td>\n",
       "    </tr>\n",
       "    <tr>\n",
       "      <th>1001</th>\n",
       "      <td>50</td>\n",
       "      <td>0</td>\n",
       "      <td>73</td>\n",
       "      <td>0</td>\n",
       "      <td>0</td>\n",
       "      <td>7</td>\n",
       "      <td>93</td>\n",
       "      <td>1</td>\n",
       "      <td>0</td>\n",
       "      <td>0</td>\n",
       "      <td>...</td>\n",
       "      <td>0</td>\n",
       "      <td>0</td>\n",
       "      <td>1</td>\n",
       "      <td>0</td>\n",
       "      <td>0</td>\n",
       "      <td>0</td>\n",
       "      <td>0</td>\n",
       "      <td>0</td>\n",
       "      <td>0</td>\n",
       "      <td>1</td>\n",
       "    </tr>\n",
       "    <tr>\n",
       "      <th>1002</th>\n",
       "      <td>30</td>\n",
       "      <td>0</td>\n",
       "      <td>660</td>\n",
       "      <td>1</td>\n",
       "      <td>0</td>\n",
       "      <td>7</td>\n",
       "      <td>912</td>\n",
       "      <td>2</td>\n",
       "      <td>0</td>\n",
       "      <td>0</td>\n",
       "      <td>...</td>\n",
       "      <td>0</td>\n",
       "      <td>0</td>\n",
       "      <td>1</td>\n",
       "      <td>0</td>\n",
       "      <td>0</td>\n",
       "      <td>0</td>\n",
       "      <td>0</td>\n",
       "      <td>0</td>\n",
       "      <td>0</td>\n",
       "      <td>1</td>\n",
       "    </tr>\n",
       "  </tbody>\n",
       "</table>\n",
       "<p>1000 rows × 48 columns</p>\n",
       "</div>"
      ]
     },
     "execution_count": 50,
     "metadata": {},
     "output_type": "execute_result"
    }
   ],
   "execution_count": 50
  },
  {
   "metadata": {
    "ExecuteTime": {
     "end_time": "2024-12-22T19:52:34.862890800Z",
     "start_time": "2024-12-19T07:05:02.005355Z"
    }
   },
   "cell_type": "code",
   "source": [
    "from sklearn.preprocessing import MinMaxScaler\n",
    "\n",
    "scaler = MinMaxScaler()\n",
    "data_frame_scaled = data_frame_2.copy()  # Avoid modifying the original dataset\n",
    "\n",
    "\n",
    "# Apply scaling to numerical features\n",
    "numerical_columns = ['balance', 'duration', 'campaign', 'previous']\n",
    "data_frame_scaled[numerical_columns] = scaler.fit_transform(data_frame_scaled[numerical_columns])\n",
    "\n",
    "data_frame_scaled"
   ],
   "id": "e1930823b891a633",
   "outputs": [
    {
     "data": {
      "text/plain": [
       "       age  default   balance  housing  loan  day  duration  campaign  \\\n",
       "0       58        0  0.214370        1     0    5  0.130893  0.000000   \n",
       "1       44        0  0.169775        1     0    5  0.075727  0.000000   \n",
       "2       33        0  0.169205        1     1    5  0.038114  0.000000   \n",
       "3       47        0  0.200932        1     0    5  0.046138  0.000000   \n",
       "4       33        0  0.169184        0     0    5  0.099298  0.000000   \n",
       "...    ...      ...       ...      ...   ...  ...       ...       ...   \n",
       "45206   51        0  0.186567        0     0   17  0.489970  0.060606   \n",
       "45207   71        0  0.205637        0     0   17  0.228686  0.030303   \n",
       "45208   72        0  0.289722        0     0   17  0.565196  0.121212   \n",
       "45209   57        0  0.183255        0     0   17  0.254764  0.090909   \n",
       "45210   37        0  0.231837        0     0   17  0.181043  0.030303   \n",
       "\n",
       "       previous  y  ...  month_jun  month_mar  month_may  month_nov  \\\n",
       "0      0.000000  0  ...          0          0          1          0   \n",
       "1      0.000000  0  ...          0          0          1          0   \n",
       "2      0.000000  0  ...          0          0          1          0   \n",
       "3      0.000000  0  ...          0          0          1          0   \n",
       "4      0.000000  0  ...          0          0          1          0   \n",
       "...         ... ..  ...        ...        ...        ...        ...   \n",
       "45206  0.000000  1  ...          0          0          0          1   \n",
       "45207  0.000000  1  ...          0          0          0          1   \n",
       "45208  0.157895  1  ...          0          0          0          1   \n",
       "45209  0.000000  0  ...          0          0          0          1   \n",
       "45210  0.578947  0  ...          0          0          0          1   \n",
       "\n",
       "       month_oct  month_sep  poutcome_failure  poutcome_other  \\\n",
       "0              0          0                 0               0   \n",
       "1              0          0                 0               0   \n",
       "2              0          0                 0               0   \n",
       "3              0          0                 0               0   \n",
       "4              0          0                 0               0   \n",
       "...          ...        ...               ...             ...   \n",
       "45206          0          0                 0               0   \n",
       "45207          0          0                 0               0   \n",
       "45208          0          0                 0               0   \n",
       "45209          0          0                 0               0   \n",
       "45210          0          0                 0               1   \n",
       "\n",
       "       poutcome_success  poutcome_unknown  \n",
       "0                     0                 1  \n",
       "1                     0                 1  \n",
       "2                     0                 1  \n",
       "3                     0                 1  \n",
       "4                     0                 1  \n",
       "...                 ...               ...  \n",
       "45206                 0                 1  \n",
       "45207                 0                 1  \n",
       "45208                 1                 0  \n",
       "45209                 0                 1  \n",
       "45210                 0                 0  \n",
       "\n",
       "[45034 rows x 48 columns]"
      ],
      "text/html": [
       "<div>\n",
       "<style scoped>\n",
       "    .dataframe tbody tr th:only-of-type {\n",
       "        vertical-align: middle;\n",
       "    }\n",
       "\n",
       "    .dataframe tbody tr th {\n",
       "        vertical-align: top;\n",
       "    }\n",
       "\n",
       "    .dataframe thead th {\n",
       "        text-align: right;\n",
       "    }\n",
       "</style>\n",
       "<table border=\"1\" class=\"dataframe\">\n",
       "  <thead>\n",
       "    <tr style=\"text-align: right;\">\n",
       "      <th></th>\n",
       "      <th>age</th>\n",
       "      <th>default</th>\n",
       "      <th>balance</th>\n",
       "      <th>housing</th>\n",
       "      <th>loan</th>\n",
       "      <th>day</th>\n",
       "      <th>duration</th>\n",
       "      <th>campaign</th>\n",
       "      <th>previous</th>\n",
       "      <th>y</th>\n",
       "      <th>...</th>\n",
       "      <th>month_jun</th>\n",
       "      <th>month_mar</th>\n",
       "      <th>month_may</th>\n",
       "      <th>month_nov</th>\n",
       "      <th>month_oct</th>\n",
       "      <th>month_sep</th>\n",
       "      <th>poutcome_failure</th>\n",
       "      <th>poutcome_other</th>\n",
       "      <th>poutcome_success</th>\n",
       "      <th>poutcome_unknown</th>\n",
       "    </tr>\n",
       "  </thead>\n",
       "  <tbody>\n",
       "    <tr>\n",
       "      <th>0</th>\n",
       "      <td>58</td>\n",
       "      <td>0</td>\n",
       "      <td>0.214370</td>\n",
       "      <td>1</td>\n",
       "      <td>0</td>\n",
       "      <td>5</td>\n",
       "      <td>0.130893</td>\n",
       "      <td>0.000000</td>\n",
       "      <td>0.000000</td>\n",
       "      <td>0</td>\n",
       "      <td>...</td>\n",
       "      <td>0</td>\n",
       "      <td>0</td>\n",
       "      <td>1</td>\n",
       "      <td>0</td>\n",
       "      <td>0</td>\n",
       "      <td>0</td>\n",
       "      <td>0</td>\n",
       "      <td>0</td>\n",
       "      <td>0</td>\n",
       "      <td>1</td>\n",
       "    </tr>\n",
       "    <tr>\n",
       "      <th>1</th>\n",
       "      <td>44</td>\n",
       "      <td>0</td>\n",
       "      <td>0.169775</td>\n",
       "      <td>1</td>\n",
       "      <td>0</td>\n",
       "      <td>5</td>\n",
       "      <td>0.075727</td>\n",
       "      <td>0.000000</td>\n",
       "      <td>0.000000</td>\n",
       "      <td>0</td>\n",
       "      <td>...</td>\n",
       "      <td>0</td>\n",
       "      <td>0</td>\n",
       "      <td>1</td>\n",
       "      <td>0</td>\n",
       "      <td>0</td>\n",
       "      <td>0</td>\n",
       "      <td>0</td>\n",
       "      <td>0</td>\n",
       "      <td>0</td>\n",
       "      <td>1</td>\n",
       "    </tr>\n",
       "    <tr>\n",
       "      <th>2</th>\n",
       "      <td>33</td>\n",
       "      <td>0</td>\n",
       "      <td>0.169205</td>\n",
       "      <td>1</td>\n",
       "      <td>1</td>\n",
       "      <td>5</td>\n",
       "      <td>0.038114</td>\n",
       "      <td>0.000000</td>\n",
       "      <td>0.000000</td>\n",
       "      <td>0</td>\n",
       "      <td>...</td>\n",
       "      <td>0</td>\n",
       "      <td>0</td>\n",
       "      <td>1</td>\n",
       "      <td>0</td>\n",
       "      <td>0</td>\n",
       "      <td>0</td>\n",
       "      <td>0</td>\n",
       "      <td>0</td>\n",
       "      <td>0</td>\n",
       "      <td>1</td>\n",
       "    </tr>\n",
       "    <tr>\n",
       "      <th>3</th>\n",
       "      <td>47</td>\n",
       "      <td>0</td>\n",
       "      <td>0.200932</td>\n",
       "      <td>1</td>\n",
       "      <td>0</td>\n",
       "      <td>5</td>\n",
       "      <td>0.046138</td>\n",
       "      <td>0.000000</td>\n",
       "      <td>0.000000</td>\n",
       "      <td>0</td>\n",
       "      <td>...</td>\n",
       "      <td>0</td>\n",
       "      <td>0</td>\n",
       "      <td>1</td>\n",
       "      <td>0</td>\n",
       "      <td>0</td>\n",
       "      <td>0</td>\n",
       "      <td>0</td>\n",
       "      <td>0</td>\n",
       "      <td>0</td>\n",
       "      <td>1</td>\n",
       "    </tr>\n",
       "    <tr>\n",
       "      <th>4</th>\n",
       "      <td>33</td>\n",
       "      <td>0</td>\n",
       "      <td>0.169184</td>\n",
       "      <td>0</td>\n",
       "      <td>0</td>\n",
       "      <td>5</td>\n",
       "      <td>0.099298</td>\n",
       "      <td>0.000000</td>\n",
       "      <td>0.000000</td>\n",
       "      <td>0</td>\n",
       "      <td>...</td>\n",
       "      <td>0</td>\n",
       "      <td>0</td>\n",
       "      <td>1</td>\n",
       "      <td>0</td>\n",
       "      <td>0</td>\n",
       "      <td>0</td>\n",
       "      <td>0</td>\n",
       "      <td>0</td>\n",
       "      <td>0</td>\n",
       "      <td>1</td>\n",
       "    </tr>\n",
       "    <tr>\n",
       "      <th>...</th>\n",
       "      <td>...</td>\n",
       "      <td>...</td>\n",
       "      <td>...</td>\n",
       "      <td>...</td>\n",
       "      <td>...</td>\n",
       "      <td>...</td>\n",
       "      <td>...</td>\n",
       "      <td>...</td>\n",
       "      <td>...</td>\n",
       "      <td>...</td>\n",
       "      <td>...</td>\n",
       "      <td>...</td>\n",
       "      <td>...</td>\n",
       "      <td>...</td>\n",
       "      <td>...</td>\n",
       "      <td>...</td>\n",
       "      <td>...</td>\n",
       "      <td>...</td>\n",
       "      <td>...</td>\n",
       "      <td>...</td>\n",
       "      <td>...</td>\n",
       "    </tr>\n",
       "    <tr>\n",
       "      <th>45206</th>\n",
       "      <td>51</td>\n",
       "      <td>0</td>\n",
       "      <td>0.186567</td>\n",
       "      <td>0</td>\n",
       "      <td>0</td>\n",
       "      <td>17</td>\n",
       "      <td>0.489970</td>\n",
       "      <td>0.060606</td>\n",
       "      <td>0.000000</td>\n",
       "      <td>1</td>\n",
       "      <td>...</td>\n",
       "      <td>0</td>\n",
       "      <td>0</td>\n",
       "      <td>0</td>\n",
       "      <td>1</td>\n",
       "      <td>0</td>\n",
       "      <td>0</td>\n",
       "      <td>0</td>\n",
       "      <td>0</td>\n",
       "      <td>0</td>\n",
       "      <td>1</td>\n",
       "    </tr>\n",
       "    <tr>\n",
       "      <th>45207</th>\n",
       "      <td>71</td>\n",
       "      <td>0</td>\n",
       "      <td>0.205637</td>\n",
       "      <td>0</td>\n",
       "      <td>0</td>\n",
       "      <td>17</td>\n",
       "      <td>0.228686</td>\n",
       "      <td>0.030303</td>\n",
       "      <td>0.000000</td>\n",
       "      <td>1</td>\n",
       "      <td>...</td>\n",
       "      <td>0</td>\n",
       "      <td>0</td>\n",
       "      <td>0</td>\n",
       "      <td>1</td>\n",
       "      <td>0</td>\n",
       "      <td>0</td>\n",
       "      <td>0</td>\n",
       "      <td>0</td>\n",
       "      <td>0</td>\n",
       "      <td>1</td>\n",
       "    </tr>\n",
       "    <tr>\n",
       "      <th>45208</th>\n",
       "      <td>72</td>\n",
       "      <td>0</td>\n",
       "      <td>0.289722</td>\n",
       "      <td>0</td>\n",
       "      <td>0</td>\n",
       "      <td>17</td>\n",
       "      <td>0.565196</td>\n",
       "      <td>0.121212</td>\n",
       "      <td>0.157895</td>\n",
       "      <td>1</td>\n",
       "      <td>...</td>\n",
       "      <td>0</td>\n",
       "      <td>0</td>\n",
       "      <td>0</td>\n",
       "      <td>1</td>\n",
       "      <td>0</td>\n",
       "      <td>0</td>\n",
       "      <td>0</td>\n",
       "      <td>0</td>\n",
       "      <td>1</td>\n",
       "      <td>0</td>\n",
       "    </tr>\n",
       "    <tr>\n",
       "      <th>45209</th>\n",
       "      <td>57</td>\n",
       "      <td>0</td>\n",
       "      <td>0.183255</td>\n",
       "      <td>0</td>\n",
       "      <td>0</td>\n",
       "      <td>17</td>\n",
       "      <td>0.254764</td>\n",
       "      <td>0.090909</td>\n",
       "      <td>0.000000</td>\n",
       "      <td>0</td>\n",
       "      <td>...</td>\n",
       "      <td>0</td>\n",
       "      <td>0</td>\n",
       "      <td>0</td>\n",
       "      <td>1</td>\n",
       "      <td>0</td>\n",
       "      <td>0</td>\n",
       "      <td>0</td>\n",
       "      <td>0</td>\n",
       "      <td>0</td>\n",
       "      <td>1</td>\n",
       "    </tr>\n",
       "    <tr>\n",
       "      <th>45210</th>\n",
       "      <td>37</td>\n",
       "      <td>0</td>\n",
       "      <td>0.231837</td>\n",
       "      <td>0</td>\n",
       "      <td>0</td>\n",
       "      <td>17</td>\n",
       "      <td>0.181043</td>\n",
       "      <td>0.030303</td>\n",
       "      <td>0.578947</td>\n",
       "      <td>0</td>\n",
       "      <td>...</td>\n",
       "      <td>0</td>\n",
       "      <td>0</td>\n",
       "      <td>0</td>\n",
       "      <td>1</td>\n",
       "      <td>0</td>\n",
       "      <td>0</td>\n",
       "      <td>0</td>\n",
       "      <td>1</td>\n",
       "      <td>0</td>\n",
       "      <td>0</td>\n",
       "    </tr>\n",
       "  </tbody>\n",
       "</table>\n",
       "<p>45034 rows × 48 columns</p>\n",
       "</div>"
      ]
     },
     "execution_count": 47,
     "metadata": {},
     "output_type": "execute_result"
    }
   ],
   "execution_count": 47
  },
  {
   "metadata": {},
   "cell_type": "code",
   "outputs": [],
   "execution_count": null,
   "source": "",
   "id": "c2db1cfb508f8be8"
  }
 ],
 "metadata": {
  "kernelspec": {
   "display_name": "Python 3",
   "language": "python",
   "name": "python3"
  },
  "language_info": {
   "codemirror_mode": {
    "name": "ipython",
    "version": 2
   },
   "file_extension": ".py",
   "mimetype": "text/x-python",
   "name": "python",
   "nbconvert_exporter": "python",
   "pygments_lexer": "ipython2",
   "version": "2.7.6"
  }
 },
 "nbformat": 4,
 "nbformat_minor": 5
}
